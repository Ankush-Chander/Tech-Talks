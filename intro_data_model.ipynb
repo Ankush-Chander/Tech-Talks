{
 "cells": [
  {
   "cell_type": "code",
   "execution_count": null,
   "metadata": {
    "id": "pU6xiozynBP-"
   },
   "outputs": [],
   "source": [
    "# Introduction to Data Model\n",
    "# By Ankush Chander"
   ]
  },
  {
   "cell_type": "code",
   "execution_count": null,
   "metadata": {
    "id": "VGUPIp8V2xDi"
   },
   "outputs": [],
   "source": [
    "!pip install spacy\n",
    "!python -m spacy download en_core_web_sm"
   ]
  },
  {
   "cell_type": "markdown",
   "metadata": {
    "id": "oJ-DXZOJpGAb"
   },
   "source": [
    "# Motivation:\n",
    "How to write user friendly easy to read pythonic objects"
   ]
  },
  {
   "cell_type": "markdown",
   "metadata": {
    "id": "81K-YpmAo2IF"
   },
   "source": [
    "# Standard-types vs user-defined types\n",
    "The principal built-in types are:\n",
    "\n",
    "1.   numerics :  int, float, complex\n",
    "2.   sequences: string, tuple, bytes, sets, fronzen_set\n",
    "3.   mappings: dictionaries\n",
    "4.   classes\n",
    "5.   instances\n",
    "6.   exceptions\n",
    "\n",
    "\n",
    "User defined types: objects created using class keyword\n",
    "\n"
   ]
  },
  {
   "cell_type": "markdown",
   "metadata": {
    "id": "MiRTj9ffMR8x"
   },
   "source": [
    "# What is data model?\n",
    "\n",
    "The Python data model refers to the way data is represented and manipulated in the Python programming language. It defines the interfaces and protocols that classes can implement to take advantage of Python's features such as iteration, comparison, and customization of behavior.\n",
    "\n",
    "\n",
    "By understanding and implementing these protocols in your classes, you can create objects that seamlessly integrate with Python's built-in functions and operators, making your code more readable, expressive, and consistent with the language's conventions.\n",
    "\n",
    "Python data models consists of:\n",
    "1. Objects, values and types\n",
    "2. The standard type hierarchy\n",
    "3. Special methods\n",
    "4. Coroutines"
   ]
  },
  {
   "cell_type": "markdown",
   "metadata": {
    "id": "MggnxHc-UPAX"
   },
   "source": [
    "# Special methods/dunder methods\n",
    "Special methods are methods that start and end with double underscores(hence also called dunder methods). These methods define how objects behave in various contexts, such as when they are created, compared, printed, or used in arithmetic operations.\n",
    "\n",
    "\n",
    "Note: The first thing to know about special methods is that they are meant to be called by the Python interpreter, and not by you. You don’t write my_object.\\_\\_repr\\_\\_(). You write repr(my_object) and, if my_object is an instance of a user-defined class, then Python calls the  instance method you implemented."
   ]
  },
  {
   "cell_type": "markdown",
   "metadata": {
    "id": "L6IaYAH4DFh4"
   },
   "source": [
    "# Make your classes easy to debug"
   ]
  },
  {
   "cell_type": "code",
   "execution_count": 2,
   "metadata": {
    "colab": {
     "base_uri": "https://localhost:8080/"
    },
    "id": "XxuEwfTQxaw-",
    "outputId": "5a377431-307c-4a5a-cfdc-109b898980c7"
   },
   "outputs": [
    {
     "name": "stdout",
     "output_type": "stream",
     "text": [
      "<__main__.TechTalk object at 0x7fdfe72c3ed0>\n"
     ]
    }
   ],
   "source": [
    "class TechTalk:\n",
    "  def __init__(self, speaker, venue, topic):\n",
    "    self.speaker = speaker\n",
    "    self.venue = venue\n",
    "    self.topic = topic\n",
    "\n",
    "talk2  = TechTalk(\"Ankush\", \"online\", \"Data model\")\n",
    "print(talk2)"
   ]
  },
  {
   "cell_type": "code",
   "execution_count": 1,
   "metadata": {
    "colab": {
     "base_uri": "https://localhost:8080/"
    },
    "id": "DUGAAbs8B19q",
    "outputId": "df440c2b-e85b-45d8-9128-0894f31cea08"
   },
   "outputs": [
    {
     "name": "stdout",
     "output_type": "stream",
     "text": [
      "Talk by Vimal on Embeddings\n",
      "BetterTechTalk('Vimal', online, Embeddings)\n"
     ]
    }
   ],
   "source": [
    "class BetterTechTalk:\n",
    "  def __init__(self, speaker, venue, topic):\n",
    "    self.speaker = speaker\n",
    "    self.venue = venue\n",
    "    self.topic = topic\n",
    "\n",
    "  def __repr__(self):\n",
    "    return f\"BetterTechTalk('{self.speaker}', {self.venue}, {self.topic})\"\n",
    "\n",
    "  def __str__(self):\n",
    "    return f\"Talk by {self.speaker} on {self.topic}\"\n",
    "\n",
    "talk2  = BetterTechTalk(\"Vimal\", venue=\"online\", topic=\"Embeddings\")\n",
    "print(talk2)\n",
    "\n",
    "print(repr(talk2))"
   ]
  },
  {
   "cell_type": "markdown",
   "metadata": {
    "id": "yGeYnvZ9xdXY"
   },
   "source": [
    "# Emulate sequence behaviour in your objects"
   ]
  },
  {
   "cell_type": "code",
   "execution_count": null,
   "metadata": {
    "colab": {
     "base_uri": "https://localhost:8080/"
    },
    "id": "xWN9R1R3vYFS",
    "outputId": "cb5181ff-e561-45b4-a566-970a5f019252"
   },
   "outputs": [
    {
     "name": "stdout",
     "output_type": "stream",
     "text": [
      "indexing => a[0]: 1\n",
      "slicing=> a[0:3]: [1, 2, 4]\n",
      "2\n",
      "4\n",
      "8\n",
      "10\n",
      "12\n",
      "18\n",
      "squares: [1, 4, 16, 25, 36, 81]\n",
      "random selection: 2\n",
      "before shuffling: [1, 2, 4, 5, 6, 9]\n",
      "shuffled list: [9, 1, 4, 5, 2, 6]\n",
      "sorted list: [1, 2, 4, 5, 6, 9]\n"
     ]
    }
   ],
   "source": [
    "# Operations available to sequences\n",
    "from random import choice, shuffle\n",
    "\n",
    "\n",
    "a = [1, 2, 4, 5, 6, 9] # standard type list\n",
    "\n",
    "# indexing: fetch 0th value of the list\n",
    "print(f\"indexing => a[0]: {a[0]}\")\n",
    "\n",
    "# slicing: fetch a sliced list from the original list\n",
    "print(f\"slicing=> a[0:3]: {a[0:3]}\")\n",
    "\n",
    "# iteration\n",
    "for i in a:\n",
    "  print(i*2)\n",
    "\n",
    "# list comprehension\n",
    "squares = [i*i for i in a]\n",
    "print(f\"squares: {squares}\")\n",
    "\n",
    "# choose a random element\n",
    "print(f\"random selection: {choice(a)}\")\n",
    "\n",
    "# shuffle list\n",
    "print(f\"before shuffling: {a}\")\n",
    "\n",
    "shuffle(a)\n",
    "print(f\"shuffled list: {a}\")\n",
    "\n",
    "# sort\n",
    "print(f\"sorted list: {sorted(a, key=lambda x:x)}\")\n",
    "\n",
    "# and more"
   ]
  },
  {
   "cell_type": "code",
   "execution_count": null,
   "metadata": {
    "id": "cwuNEzsAzTYY"
   },
   "outputs": [],
   "source": [
    "# user defined type\n",
    "import collections\n",
    "Card = collections.namedtuple('Card', ['rank', 'suit'])\n",
    "\n",
    "# not so pythonic object\n",
    "class CardDeck:\n",
    "  suits = 'spades diamonds clubs hearts'.split()\n",
    "  ranks= [str(n) for n in range(2, 11)] + list('JQKA')\n",
    "  def __init__(self):\n",
    "    self._cards = [Card(rank, suit) for suit in self.suits for rank in self.ranks]\n",
    "\n",
    "  def shuffle(self):\n",
    "    pass\n",
    "\n",
    "  def pick_random_card(self):\n",
    "    pass\n",
    "\n",
    "  def pick_cards_by_suit(self, suite):\n",
    "    pass\n",
    "\n",
    "deck = CardDeck()\n",
    "\n",
    "# shuffle\n",
    "deck.shuffle()\n",
    "\n",
    "# pick random card\n",
    "deck.pick_random_card()\n",
    "\n"
   ]
  },
  {
   "cell_type": "code",
   "execution_count": null,
   "metadata": {
    "id": "VdEV1Fe22sqt"
   },
   "outputs": [],
   "source": [
    "import collections\n",
    "Card = collections.namedtuple('Card', ['rank', 'suit'])\n",
    "\n",
    "# not so pythonic object\n",
    "class CardDeck:\n",
    "  suits = 'spades diamonds clubs hearts'.split()\n",
    "  ranks= [str(n) for n in range(2, 11)] + list('JQKA')\n",
    "  def __init__(self):\n",
    "    self._cards = [Card(rank, suit) for suit in self.suits for rank in self.ranks]\n",
    "\n",
    "  def __len__(self):\n",
    "    return len(self._cards)\n",
    "\n",
    "  def __getitem__(self, index):\n",
    "    return self._cards[index]\n",
    "\n",
    "  def __setitem__(self, position, card):\n",
    "    self._cards[position] = card\n"
   ]
  },
  {
   "cell_type": "code",
   "execution_count": null,
   "metadata": {
    "colab": {
     "base_uri": "https://localhost:8080/"
    },
    "id": "VjYo-To33Yi-",
    "outputId": "619f1a34-fca0-4157-af45-30c0d6a956ee"
   },
   "outputs": [
    {
     "name": "stdout",
     "output_type": "stream",
     "text": [
      "indexing => deck[0]: Card(rank='2', suit='spades')\n",
      "slicing=> deck[0:3]: [Card(rank='2', suit='spades'), Card(rank='3', suit='spades'), Card(rank='4', suit='spades')]\n",
      "Card(rank='2', suit='spades')\n",
      "Card(rank='A', suit='hearts')\n",
      "Card('Q', 'hearts') in deck: True\n",
      "Card('Q', 'beasts') in deck: False\n",
      "random selection: Card(rank='5', suit='hearts')\n",
      "before shuffling: [Card(rank='2', suit='spades'), Card(rank='3', suit='spades'), Card(rank='4', suit='spades')]\n",
      "shuffled list: [Card(rank='8', suit='diamonds'), Card(rank='8', suit='hearts'), Card(rank='5', suit='clubs')]\n",
      "sorted list: [Card(rank='K', suit='spades'), Card(rank='A', suit='clubs'), Card(rank='A', suit='diamonds'), Card(rank='A', suit='hearts'), Card(rank='A', suit='spades')]\n"
     ]
    }
   ],
   "source": [
    "deck = CardDeck()\n",
    "\n",
    "# by implementing __getitem__ we are able to support following things:\n",
    "\n",
    "# indexing: fetch 0th value of the list\n",
    "print(f\"indexing => deck[0]: {deck[0]}\")\n",
    "# indexing => deck[0]: Card(rank='2', suit='spades')abs\n",
    "\n",
    "\n",
    "# slicing: fetch a sliced list from the original list\n",
    "print(f\"slicing=> deck[0:3]: {deck[0:3]}\")\n",
    "# slicing=> deck[0:3]: [Card(rank='2', suit='spades'), Card(rank='3', suit='spades'), Card(rank='4', suit='spades')]\n",
    "\n",
    "\n",
    "# iteration\n",
    "for card in deck: # doctest: +ELLIPSIS\n",
    "    print(card)\n",
    "    #Card(rank='2', suit='spades')\n",
    "    break\n",
    "\n",
    "# check for membership\n",
    "print(f\"Card('Q', 'hearts') in deck: {Card('Q', 'hearts') in deck}\")\n",
    "# True\n",
    "print(f\"Card('Q', 'beasts') in deck: {Card('Q', 'beasts') in deck}\")\n",
    "# False\n",
    "\n",
    "# reverse the deck\n",
    "for card in reversed(deck): # doctest: +ELLIPSIS\n",
    "    print(card)\n",
    "    # Card(rank='A', suit='hearts')\n",
    "    break\n",
    "\n",
    "\n",
    "# choose a random element\n",
    "print(f\"random selection: {choice(deck)}\")\n",
    "# random card\n",
    "\n",
    "# shuffle list\n",
    "print(f\"before shuffling: {deck[0:3]}\")\n",
    "shuffle(deck)\n",
    "print(f\"shuffled list: {deck[0:3]}\")\n",
    "\n",
    "# sorting\n",
    "suit_values = dict(spades=3, hearts=2, diamonds=1, clubs=0)\n",
    "def spades_high(card):\n",
    "  rank_value = CardDeck.ranks.index(card.rank)\n",
    "  return rank_value * len(suit_values) + suit_values[card.suit]\n",
    "\n",
    "print(f\"sorted list: {sorted(deck, key=spades_high)[-1:]}\")\n",
    "# Card(rank='A', suit='spades')"
   ]
  },
  {
   "cell_type": "markdown",
   "metadata": {
    "id": "zxO4Rk1kuylN"
   },
   "source": [
    "## Takeaway\n",
    "By implementing the special methods \\_\\_len\\_\\_ and \\_\\_getitem\\_\\_, our CardDeck *behaves like a standard Python sequence*, allowing it to benefit from:\n",
    " 1.  core language features **(e.g., indexing, iteration, slicing, membership)**\n",
    " 2.  standard library, as shown by the examples using **random.choice, reversed, and sorted.**"
   ]
  },
  {
   "cell_type": "markdown",
   "metadata": {
    "id": "qyQbrhMoyMUI"
   },
   "source": [
    "# Emulate Numeric types"
   ]
  },
  {
   "cell_type": "code",
   "execution_count": null,
   "metadata": {
    "id": "ko87pTlZyTvW"
   },
   "outputs": [],
   "source": [
    "# numeric properties\n",
    "a =1\n",
    "b =2\n",
    "\n",
    "\n",
    "# addition\n",
    "a+b # returns 3\n",
    "\n",
    "# subtraction\n",
    "a-b # returns -1\n",
    "# multiplication\n",
    "\n",
    "a*b # returns 2\n",
    "# absolute value of a number\n",
    "abs(-10) # returns 10\n",
    "\n",
    "# check truthiness of a number\n",
    "bool(a) # return False if a = 0 else True\n"
   ]
  },
  {
   "cell_type": "markdown",
   "metadata": {
    "id": "oH9C2oBk7N66"
   },
   "source": [
    "![](https://www.oreilly.com/api/v2/epubs/9781491946237/files/assets/flup_0101.png)"
   ]
  },
  {
   "cell_type": "code",
   "execution_count": null,
   "metadata": {
    "colab": {
     "base_uri": "https://localhost:8080/"
    },
    "id": "pD9coKWCnBQA",
    "outputId": "cc76d3b8-3a49-414c-9fd5-efd3d8b704a4"
   },
   "outputs": [
    {
     "name": "stdout",
     "output_type": "stream",
     "text": [
      "3i + 4j\n",
      "Vector(3, 4)\n",
      "15i + 20j\n",
      "15i + 20j\n",
      "5.0\n",
      "True\n"
     ]
    }
   ],
   "source": [
    "# Implement a vector class\n",
    "from math import hypot\n",
    "class Vector():\n",
    "    \"\"\"Constructor function\"\"\"\n",
    "    def __init__(self, x, y):\n",
    "        self.x = x\n",
    "        self.y = y\n",
    "\n",
    "    \"\"\"Make it easy to debug using __str__\"\"\"\n",
    "    def __str__(self):\n",
    "        return f\"{self.x}i + {self.y}j\"\n",
    "\n",
    "    \"\"\"Make it easy to reproduce\"\"\"\n",
    "    def __repr__(self):\n",
    "        return f\"Vector({self.x}, {self.y})\"\n",
    "\n",
    "    \"\"\"Implement vector addition using __add__\"\"\"\n",
    "    def __add__(self, other):\n",
    "        x = self.x + other.x\n",
    "        y = self.y + other.y\n",
    "        return Vector(x,y)\n",
    "\n",
    "    \"\"\"Implement scalar multiplication\"\"\"\n",
    "    def __mul__(self, scalar):\n",
    "        x = scalar * self.x\n",
    "        y = scalar * self.y\n",
    "        return Vector(x,y)\n",
    "\n",
    "    def __rmul__(self,scalar):\n",
    "        x= scalar* self.x\n",
    "        y= scalar* self.y\n",
    "        return Vector(x,y)\n",
    "\n",
    "    \"\"\"Magnitude of vector\"\"\"\n",
    "    def __abs__(self):\n",
    "        return hypot(self.x, self.y)\n",
    "\n",
    "    \"\"\"Truth value of a vector\"\"\"\n",
    "    def __bool__(self):\n",
    "        return bool(abs(self))\n",
    "\n",
    "a = Vector(3,4)\n",
    "b = Vector(5,6)\n",
    "print(a)\n",
    "print(repr(a))\n",
    "# Add two vectors objects using \"+\" operator\n",
    "a + b\n",
    "# Scalar multiplication using \"*\" operator\n",
    "print(a*5)\n",
    "print(5*a)\n",
    "# Calculate magnitude of the vector using abs method\n",
    "print(abs(a))\n",
    "# Calculater truth value using bool function\n",
    "print(bool(a))"
   ]
  },
  {
   "cell_type": "markdown",
   "metadata": {
    "id": "9AdIwQcW2qDT"
   },
   "source": [
    "# Example: Spacy Doc oject\n"
   ]
  },
  {
   "cell_type": "code",
   "execution_count": null,
   "metadata": {
    "colab": {
     "base_uri": "https://localhost:8080/"
    },
    "id": "WgyXsyCj3Or4",
    "outputId": "7ddc6ca4-baad-475a-8420-0a848debc7e6"
   },
   "outputs": [
    {
     "name": "stdout",
     "output_type": "stream",
     "text": [
      "indexing: is\n",
      "indexing: Python data model\n",
      "verbs:[called, describes, use, make, play, think]\n",
      ".\n"
     ]
    },
    {
     "data": {
      "text/plain": [
       "objects"
      ]
     },
     "execution_count": 18,
     "metadata": {},
     "output_type": "execute_result"
    }
   ],
   "source": [
    "import spacy\n",
    "\n",
    "nlp = spacy.load(\"en_core_web_sm\")\n",
    "\n",
    "doc = nlp(\"The iceberg is called the Python data model, and it describes the API that you can use to make your own objects play well with the most idiomatic language features. You can think of the data model as a description of Python as a framework.\")\n",
    "\n",
    "\n",
    "# access tokens using indexing\n",
    "print(f\"indexing: {doc[2]}\")\n",
    "\n",
    "#access phrases using slicing\n",
    "print(f\"indexing: {doc[5:8]}\")\n",
    "\n",
    "# filter words using list comprehension\n",
    "verbs = [token for token in doc if token.pos_==\"VERB\"]\n",
    "print(f\"verbs:{verbs}\")\n",
    "\n",
    "\n",
    "# reverse the words in doc\n",
    "for token in reversed(doc):\n",
    "  print(token)\n",
    "  break\n",
    "\n",
    "# pick a rendom word from text\n",
    "choice(doc)\n",
    "\n",
    "\n",
    "\n"
   ]
  },
  {
   "cell_type": "markdown",
   "metadata": {},
   "source": [
    "# Zen of python"
   ]
  },
  {
   "cell_type": "code",
   "execution_count": null,
   "metadata": {
    "id": "2TocDQTknBQB",
    "outputId": "737842a8-30d3-4231-d1ff-96db4fd53cb4"
   },
   "outputs": [
    {
     "name": "stdout",
     "output_type": "stream",
     "text": [
      "The Zen of Python, by Tim Peters\n",
      "\n",
      "Beautiful is better than ugly.\n",
      "Explicit is better than implicit.\n",
      "Simple is better than complex.\n",
      "Complex is better than complicated.\n",
      "Flat is better than nested.\n",
      "Sparse is better than dense.\n",
      "Readability counts.\n",
      "Special cases aren't special enough to break the rules.\n",
      "Although practicality beats purity.\n",
      "Errors should never pass silently.\n",
      "Unless explicitly silenced.\n",
      "In the face of ambiguity, refuse the temptation to guess.\n",
      "There should be one-- and preferably only one --obvious way to do it.\n",
      "Although that way may not be obvious at first unless you're Dutch.\n",
      "Now is better than never.\n",
      "Although never is often better than *right* now.\n",
      "If the implementation is hard to explain, it's a bad idea.\n",
      "If the implementation is easy to explain, it may be a good idea.\n",
      "Namespaces are one honking great idea -- let's do more of those!\n"
     ]
    }
   ],
   "source": [
    "# Zen of python\n",
    "import this"
   ]
  },
  {
   "cell_type": "markdown",
   "metadata": {
    "id": "OuwPfQLIy8mY"
   },
   "source": [
    "# What we covered:\n",
    "1. What is python data model?\n",
    "2. Special functions(dunder methods)\n",
    "2. Make your objects easy to debug using str and repr functions\n",
    "3. Make your objects behave like sequences.\n",
    "4. Function overloading (provide functions like bool, abs to your objects)\n",
    "5. Operator overloading (provide operators like \"+\", \"*\" to your objects)\n",
    "6. How spacy leverages data model to make the library intuitive for users\n",
    "7. Zen of python"
   ]
  },
  {
   "cell_type": "markdown",
   "metadata": {
    "id": "xry5My-O0Axa"
   },
   "source": [
    "# References\n",
    "0. [Stackoverflow - Difference between str and repr](https://stackoverflow.com/questions/1436703/difference-between-str-and-repr)\n",
    "1. [Python reference - Data model](https://docs.python.org/3/reference/datamodel.html#special-method-names)\n",
    "2. [Chapter 1. The Python Data Model](https://www.oreilly.com/library/view/fluent-python/9781491946237/ch01.html)\n",
    "3. [Book:  Fluent python by Luciano Ramalho](https://www.goodreads.com/book/show/22800567-fluent-python)\n",
    "4. [SPACY v3: Design concepts explained (behind the scenes)](https://youtu.be/BWhh3r6W-qE?si=I8Lohl4QB4GJtiUb)\n"
   ]
  }
 ],
 "metadata": {
  "colab": {
   "provenance": []
  },
  "kernelspec": {
   "display_name": "Python 3 (ipykernel)",
   "language": "python",
   "name": "python3"
  },
  "language_info": {
   "codemirror_mode": {
    "name": "ipython",
    "version": 3
   },
   "file_extension": ".py",
   "mimetype": "text/x-python",
   "name": "python",
   "nbconvert_exporter": "python",
   "pygments_lexer": "ipython3",
   "version": "3.11.3"
  }
 },
 "nbformat": 4,
 "nbformat_minor": 4
}
