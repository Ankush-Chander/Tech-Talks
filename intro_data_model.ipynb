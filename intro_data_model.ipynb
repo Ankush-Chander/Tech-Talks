{
 "cells": [
  {
   "cell_type": "code",
   "execution_count": 3,
   "metadata": {},
   "outputs": [],
   "source": [
    "# Introduction to Data Model\n",
    "# By Ankush Chander\n",
    "# Cofounder and CTO RAxter.io\n",
    "# Date: 23 Nov\n",
    "# Venue: PyData Meetup (Atlan Office)"
   ]
  },
  {
   "cell_type": "code",
   "execution_count": 6,
   "metadata": {},
   "outputs": [],
   "source": [
    "# Goal of talk\n",
    "# 1. How can we make our objects more predictable, idiomatic and obvious?"
   ]
  },
  {
   "cell_type": "code",
   "execution_count": 5,
   "metadata": {},
   "outputs": [
    {
     "name": "stdout",
     "output_type": "stream",
     "text": [
      "3i + 4j\n",
      "Vector(3, 4)\n",
      "15i + 20j\n",
      "15i + 20j\n",
      "5.0\n",
      "True\n"
     ]
    }
   ],
   "source": [
    "\"\"\"Slide 1\"\"\"\n",
    "# Implement a vector class\n",
    "from math import hypot\n",
    "class Vector():\n",
    "    \"\"\"Constructor function\"\"\"\n",
    "    def __init__(self, x, y):\n",
    "        self.x = x\n",
    "        self.y = y\n",
    "    \n",
    "    \"\"\"Make it easy to debug using __str__\"\"\"\n",
    "    def __str__(self):\n",
    "        return f\"{self.x}i + {self.y}j\"\n",
    "   \n",
    "    \"\"\"Make it easy to reproduce\"\"\"\n",
    "    def __repr__(self):\n",
    "        return f\"Vector({self.x}, {self.y})\"\n",
    "\n",
    "    \"\"\"Implement vector addition using __add__\"\"\"\n",
    "    def __add__(self, other):\n",
    "        x = self.x + other.x\n",
    "        y = self.y + other.y\n",
    "        return Vector(x,y)\n",
    "    \n",
    "    \"\"\"Implement scalar multiplication\"\"\"\n",
    "    def __mul__(self, scalar):\n",
    "        x = scalar * self.x\n",
    "        y = scalar * self.y\n",
    "        return Vector(x,y)\n",
    "    \n",
    "    def __rmul__(self,scalar):\n",
    "        x= scalar* self.x\n",
    "        y= scalar* self.y\n",
    "        return Vector(x,y)\n",
    "    \n",
    "    \"\"\"Magnitude of vector\"\"\"\n",
    "    def __abs__(self):\n",
    "        return hypot(self.x, self.y)\n",
    "    \n",
    "    \"\"\"Truth value of a vector\"\"\"\n",
    "    def __bool__(self):\n",
    "        return bool(abs(self))\n",
    "    \n",
    "a = Vector(3,4)\n",
    "b = Vector(5,6)\n",
    "print(a)\n",
    "print(repr(a))\n",
    "# Add two vectors objects using \"+\" operator \n",
    "a + b\n",
    "# Scalar multiplication using \"*\" operator\n",
    "print(a*5)\n",
    "print(5*a)\n",
    "# Calculate magnitude of the vector using abs method\n",
    "print(abs(a))\n",
    "# Calculater truth value using bool function \n",
    "print(bool(a))"
   ]
  },
  {
   "cell_type": "code",
   "execution_count": 6,
   "metadata": {},
   "outputs": [],
   "source": [
    "#Key Takeaways\n",
    "# Special functions(dunder methods)\n",
    "# Difference between str and repr\n",
    "# Function overloading (provide functions like bool, abs to your objects)\n",
    "# Operator overloading (provide operators like \"+\", \"*\" to your objects)"
   ]
  },
  {
   "cell_type": "code",
   "execution_count": 20,
   "metadata": {},
   "outputs": [
    {
     "name": "stdout",
     "output_type": "stream",
     "text": [
      "Order(['mango', 'apple'], Ankush)\n",
      "Order(['mango', 'apple', 'grapes'], Ankush)\n",
      "mango\n",
      "['apple', 'pineapple']\n",
      "True\n"
     ]
    }
   ],
   "source": [
    "\"\"\"Dig deeper with another class\"\"\"\n",
    "class Order():\n",
    "    def __init__(self, items,customer):\n",
    "        self.cart = items\n",
    "        self.customer = customer\n",
    "    \n",
    "    \"\"\"calculate length of order\"\"\"\n",
    "    def __repr__(self):\n",
    "        return f\"Order({self.cart}, {self.customer})\"\n",
    "        \n",
    "    \"\"\"Implement add to cart\"\"\"\n",
    "    def __add__(self, new_item):\n",
    "        new_cart = self.cart.copy()\n",
    "        new_cart.append(new_item)\n",
    "        return Order(new_cart, self.customer)\n",
    "    \n",
    "    \"\"\"Make addition commutative\"\"\"\n",
    "    def __radd__(self, new_item):\n",
    "        new_cart = self.cart.copy()\n",
    "        new_cart.insert(0,new_item)\n",
    "        return Order(new_cart, self.customer)\n",
    "    \n",
    "    \"\"\"Make your object accessible by index\"\"\"\n",
    "    def __getitem__(self, index):\n",
    "        return self.cart[index]\n",
    "    \n",
    "    \n",
    "    \"\"\"Auto increment\"\"\"\n",
    "    def __iadd__(self, new_item):\n",
    "        self.cart.append(new_item)\n",
    "        return self\n",
    "\n",
    "    \n",
    "    \"\"\"Assign Truth value to the order\"\"\"\n",
    "    def __bool__(self):\n",
    "        return bool(self.cart)\n",
    "    \n",
    "my_order = Order([\"mango\", \"apple\"], \"Ankush\")\n",
    "print(my_order)\n",
    "\n",
    "# Add to cart\n",
    "print(my_order + \"grapes\")\n",
    "my_order+= \"pineapple\"\n",
    "# Apply index access on Order object\n",
    "\n",
    "print(my_order[0])\n",
    "# Apply slicing on Order object\n",
    "print(my_order[1:3])\n",
    "\n",
    "# Truth valu to your Order \n",
    "print(bool(my_order))"
   ]
  },
  {
   "cell_type": "code",
   "execution_count": 43,
   "metadata": {},
   "outputs": [],
   "source": [
    "# Key takeaways\n",
    "# 1. Make your objects behave like builtins.(Like Order object behaves like a list)\n",
    "# 2. Provide your object operators like indexes, slicing"
   ]
  },
  {
   "cell_type": "code",
   "execution_count": 7,
   "metadata": {},
   "outputs": [
    {
     "name": "stdout",
     "output_type": "stream",
     "text": [
      "The Zen of Python, by Tim Peters\n",
      "\n",
      "Beautiful is better than ugly.\n",
      "Explicit is better than implicit.\n",
      "Simple is better than complex.\n",
      "Complex is better than complicated.\n",
      "Flat is better than nested.\n",
      "Sparse is better than dense.\n",
      "Readability counts.\n",
      "Special cases aren't special enough to break the rules.\n",
      "Although practicality beats purity.\n",
      "Errors should never pass silently.\n",
      "Unless explicitly silenced.\n",
      "In the face of ambiguity, refuse the temptation to guess.\n",
      "There should be one-- and preferably only one --obvious way to do it.\n",
      "Although that way may not be obvious at first unless you're Dutch.\n",
      "Now is better than never.\n",
      "Although never is often better than *right* now.\n",
      "If the implementation is hard to explain, it's a bad idea.\n",
      "If the implementation is easy to explain, it may be a good idea.\n",
      "Namespaces are one honking great idea -- let's do more of those!\n"
     ]
    }
   ],
   "source": [
    "# Zen of python\n",
    "import this\n"
   ]
  },
  {
   "cell_type": "code",
   "execution_count": 21,
   "metadata": {},
   "outputs": [],
   "source": [
    "# References\n",
    "# 0. https://stackoverflow.com/questions/1436703/difference-between-str-and-repr\n",
    "# 1. https://realpython.com/operator-function-overloading/#the-python-data-model\n",
    "# 2. https://docs.python.org/3/reference/datamodel.html#special-method-names\n",
    "# 3. Fluent python by Luciano Ramalho"
   ]
  }
 ],
 "metadata": {
  "kernelspec": {
   "display_name": "Python 3",
   "language": "python",
   "name": "python3"
  },
  "language_info": {
   "codemirror_mode": {
    "name": "ipython",
    "version": 3
   },
   "file_extension": ".py",
   "mimetype": "text/x-python",
   "name": "python",
   "nbconvert_exporter": "python",
   "pygments_lexer": "ipython3",
   "version": "3.6.8"
  }
 },
 "nbformat": 4,
 "nbformat_minor": 2
}
