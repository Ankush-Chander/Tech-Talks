{
 "cells": [
  {
   "cell_type": "code",
   "execution_count": 40,
   "metadata": {},
   "outputs": [
    {
     "name": "stdout",
     "output_type": "stream",
     "text": [
      "3i + 4j\n",
      "Vector(3, 4)\n"
     ]
    }
   ],
   "source": [
    "# slide 1: Make your objects easy to log/debug\n",
    "# Difference between repr and str representation\n",
    "class Vector:\n",
    "    def __init__(self,x,y):\n",
    "        self.x = x\n",
    "        self.y = y\n",
    "        \n",
    "#     add proper repr notation\n",
    "    def __repr__(self):\n",
    "        return f\"Vector({self.x}, {self.y})\"\n",
    "    \n",
    "    def __str__(self):\n",
    "        return f\"{self.x}i + {self.y}j\"\n",
    "    \n",
    "a = Vector(3,4)\n",
    "print(str(a)) # readable\n",
    "print(repr(a)) # unambigous"
   ]
  },
  {
   "cell_type": "code",
   "execution_count": 33,
   "metadata": {},
   "outputs": [
    {
     "name": "stdout",
     "output_type": "stream",
     "text": [
      "Vector(8, 9)\n",
      "Vector(30, 40)\n",
      "5.0\n",
      "True\n"
     ]
    }
   ],
   "source": [
    "# slide 2: Make your objects act like builtins using Operator overloading\n",
    "\n",
    "from math import hypot \n",
    "class Vector:\n",
    "    def __init__(self,x,y):\n",
    "        self.x = x\n",
    "        self.y = y\n",
    "        \n",
    "#     add repr notation\n",
    "    def __repr__(self):\n",
    "        return f\"Vector({self.x}, {self.y})\"\n",
    "\n",
    "\n",
    "#   VEctor addition using special method __add__ \n",
    "    def __add__(self,other):\n",
    "        x= self.x + other.x\n",
    "        y = self.x + other.y\n",
    "        return Vector(x , y)\n",
    "\n",
    "    #  Scalar multiplication \n",
    "    def __mul__(self, scalar):\n",
    "        x= scalar*self.x\n",
    "        y = scalar *self.y\n",
    "        return Vector(x, y)\n",
    "\n",
    "    # Make scalar multiplication communtative by using __rmul__\n",
    "    def __rmul__(self, scalar):\n",
    "        x= scalar*self.x\n",
    "        y = scalar *self.y\n",
    "        return Vector(x, y)\n",
    "    \n",
    "    # VEctor magnitude magnitude of vector using __abs__     \n",
    "    def __abs__(self):\n",
    "        return  hypot(self.x, self.y)\n",
    "    \n",
    "    def __bool__(self):\n",
    "        return bool(abs(self)) \n",
    "    \n",
    "a = Vector(3,4)\n",
    "b= Vector(5,6)\n",
    "\n",
    "print(a+b)\n",
    "\n",
    "print(a*10)\n",
    "# Get absolute value of vector\n",
    "print(abs(a))\n",
    "print(bool(a))"
   ]
  },
  {
   "cell_type": "code",
   "execution_count": 38,
   "metadata": {},
   "outputs": [
    {
     "name": "stdout",
     "output_type": "stream",
     "text": [
      "Order(['apple', 'orange', 'mango'], John)\n",
      "Order(['grapes', 'apple', 'orange', 'mango'], John)\n",
      "False\n"
     ]
    }
   ],
   "source": [
    "# Slide 3: Make your objects idiomatic and predictable\n",
    "class Order():\n",
    "    def __init__(self, items, customer):\n",
    "        self.customer = customer\n",
    "        self._cart = items\n",
    "    \n",
    "    # add repr method for unambigous logging     \n",
    "    def __repr__(self):\n",
    "        return f\"Order({self._cart}, {self.customer})\"\n",
    "    \n",
    "    # How do we get the number of items in Order? Function overloading      \n",
    "    def __len__(self): \n",
    "        return len(self._cart)\n",
    "    \n",
    "    # Hos do we access each item of the order? \n",
    "    def __getitem__(self, key):\n",
    "        return self._cart[key]\n",
    "    \n",
    "    #  How do we add items to the cart? Operator overloading\n",
    "    def __add__(self, item):\n",
    "        items = self._cart.copy()\n",
    "        items.append(item)\n",
    "        return Order(items, self.customer)\n",
    "    \n",
    "    # Make addition commutative        \n",
    "    def __radd__(self, item):\n",
    "        items = self._cart.copy()\n",
    "        items.insert(0, item)\n",
    "        return Order(items, self.customer)\n",
    "    \n",
    "    # Whether the order is valid or empty     \n",
    "    def __bool__(self):\n",
    "        return bool(len(self._cart))\n",
    "\n",
    "my_order = Order([\"apple\", \"orange\", \"mango\"], \"John\") \n",
    "print(my_order)\n",
    "# Get length of order \n",
    "len(my_order)\n",
    "# Access Order object via indices, slicing just like any built-in list\n",
    "my_order[0:2]\n",
    "# Add items to your object just using \"+\" operator \n",
    "my_order = \"grapes\" + my_order  \n",
    "print(my_order)\n",
    "empty_order = Order([], \"Adam\")\n",
    "print(bool(empty_order))"
   ]
  },
  {
   "cell_type": "code",
   "execution_count": null,
   "metadata": {},
   "outputs": [],
   "source": []
  }
 ],
 "metadata": {
  "kernelspec": {
   "display_name": "Python 3",
   "language": "python",
   "name": "python3"
  },
  "language_info": {
   "codemirror_mode": {
    "name": "ipython",
    "version": 3
   },
   "file_extension": ".py",
   "mimetype": "text/x-python",
   "name": "python",
   "nbconvert_exporter": "python",
   "pygments_lexer": "ipython3",
   "version": "3.6.8"
  }
 },
 "nbformat": 4,
 "nbformat_minor": 2
}
