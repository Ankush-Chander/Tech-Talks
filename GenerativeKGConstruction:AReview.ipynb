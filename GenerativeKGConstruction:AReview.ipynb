{
 "cells": [
  {
   "cell_type": "markdown",
   "id": "155bec63-1468-45e5-be18-11c2cee20b24",
   "metadata": {
    "editable": true,
    "slide_type": "slide",
    "slideshow": {
     "slide_type": "slide"
    },
    "tags": []
   },
   "source": [
    "# [Generative Knowledge Graph Construction: A Review](https://arxiv.org/pdf/2210.12714.pdf)  \n",
    "by Hongbin Ye, Ningyu Zhang, Hui Chen, Huajun Chen"
   ]
  },
  {
   "cell_type": "markdown",
   "id": "b218b5d2-2f31-4939-88c3-76c4de4841fa",
   "metadata": {
    "editable": true,
    "slide_type": "slide",
    "slideshow": {
     "slide_type": "slide"
    },
    "tags": []
   },
   "source": [
    "## Discrimination vs Generation models\n",
    "\n",
    "| Discrimination models | Generation models |\n",
    "| --- | --- |\n",
    "| Predict the possible label of an input sentence based on its characteristics | Autoregressively generate the result of linearized triplets given an input sentence |\n"
   ]
  },
  {
   "cell_type": "markdown",
   "id": "052c00b4-1c17-4394-bb02-f6f08fcb4fb2",
   "metadata": {
    "editable": true,
    "slide_type": "slide",
    "slideshow": {
     "slide_type": "slide"
    },
    "tags": []
   },
   "source": [
    "## Advantages of Generation models\n",
    "**Unified Architecture:** Generative models can handle different KGC tasks with a universal architecture, freeing them from constraints of specialized models(NER, Relation extraction etc).  \n",
    "**Semantic Utilization:** They leverage rich semantic information from labels or text, enhancing the understanding of structured knowledge.  \n",
    "**Flexibility:** These models offer flexibility in organizing information, which is beneficial for cross-task applications.  \n",
    "**Efficiency:** Generative models can be pre-trained on multiple tasks, facilitating knowledge sharing and transition from traditional understanding to structured understanding.    "
   ]
  },
  {
   "cell_type": "markdown",
   "id": "0111d576-37b8-49e8-b39d-f2e1442326f1",
   "metadata": {
    "editable": true,
    "slide_type": "slide",
    "slideshow": {
     "slide_type": "slide"
    },
    "tags": []
   },
   "source": [
    "## Generation based methods\n",
    "1. copy-based Sequence  \n",
    "2. structure-linearize Sequence    \n",
    "3. label-augmented Sequence    \n",
    "4. indice-based Sequence \n",
    "5. blank-based Sequence  "
   ]
  },
  {
   "cell_type": "markdown",
   "id": "93354d1d-a6f0-40c7-b579-c16fb9c4bf51",
   "metadata": {
    "editable": true,
    "slide_type": "slide",
    "slideshow": {
     "slide_type": "slide"
    },
    "tags": []
   },
   "source": [
    "### Copy based sequence\n",
    "<img src=\"img/gen_kg_construction/copy_based_sequence.png\" width=\"550\" height=\"550\">\n",
    "\n",
    "The model copies the head entity from the input sentence and then the tail entity. Similarly, relations \n",
    "are generated from target vocabulary, which is restricted to the set of special relation tokens  \n",
    "\n",
    "**Pro:** This paradigm avoids models generating ambiguous or hallucinative entities.)"
   ]
  },
  {
   "cell_type": "markdown",
   "id": "153f5684-fcfd-44ee-b94e-d8da92a2ec7a",
   "metadata": {
    "editable": true,
    "slide_type": "slide",
    "slideshow": {
     "slide_type": "slide"
    },
    "tags": []
   },
   "source": [
    "References:\n",
    "\n",
    "1. CopyRE (ACL|2018)  \n",
    "2. CopyRRL (EMNLP| 2019): In order to identify a reasonable triple extraction order, they converts the triplet generation process into  reiinforcement learning process, enabling the cop \n",
    "mechanism to follow an efficient generati order..\n",
    " \n",
    "3. CopyMTL (AAAI| 2020): maps the head and tail entities to fused feature space for entity replication by an additional nonlinear layer, which strengthens\n",
    "the stability of the mechanism, \n",
    "4. TEMPGEN (EMNLP| 2021): proposes a TOP-k copy mechanism to alleviate the computational complexity of entity pairs.\n",
    "5. Seq2rel (BioNLP-ACL|2022)"
   ]
  },
  {
   "cell_type": "markdown",
   "id": "b3166857-f59a-493c-88ba-b4c82a607366",
   "metadata": {
    "editable": true,
    "slide_type": "slide",
    "slideshow": {
     "slide_type": "slide"
    },
    "tags": []
   },
   "source": [
    "### Structure linearize sequence\n",
    "- This paradigm refers to utilizing structural knowledge and label semantics, making it prone to handling a unified output format.  \n",
    "\n",
    "<img src=\"img/gen_kg_construction/struct_linearized.png\" width=\"550\" height=\"550\">\n",
    "\n"
   ]
  },
  {
   "cell_type": "markdown",
   "id": "cde84c65-48e3-40fd-8993-0291880a46a8",
   "metadata": {
    "editable": true,
    "slide_type": "slide",
    "slideshow": {
     "slide_type": "slide"
    },
    "tags": []
   },
   "source": [
    "**Key work:**    \n",
    "1. Lu et al. (ACL 2021) proposed an end-to-end event extraction model based on **T5**. The model linearlizes the extracted knowledge structure as output. **Event schema is used to constrain decoding space and ensure semantic/structural legitimacy**.\n",
    "2. Lou et al. (ACL 2021) reformulated event detection as a **Seq2Seq task with a Multi-Layer Bidirectional Network**.\n",
    "3. Zhang et al. (Audio Speech Lang Trans 2021b) and Ye et al. (AAAI 2021) introduced a **contrastive learning framework with batch dynamic attention masking**. This is to overcome meaning contradiction in generative architectures producing unreliable sequences.\n",
    "4. Cabot and Navigli (EMNLP 2021) employed a **triplet decomposition method for relation extraction**, flexible for unified domains or longer documents.\n"
   ]
  },
  {
   "cell_type": "markdown",
   "id": "8c4f8e6e-7709-4f4a-9b42-7ed31e65fabf",
   "metadata": {
    "editable": true,
    "slide_type": "slide",
    "slideshow": {
     "slide_type": "slide"
    },
    "tags": []
   },
   "source": [
    "### Label augmented Sequence\n",
    "- This paradigm refers to **utilizing the extra markers to indicate specific entities or relationships**. The output sequence in this paradigm copies all words in the input sentence, reducing ambiguity. Square brackets or other identifiers are used to specify the tagging sequence for the entity of interest, with relevant labels separated by \"|\" within the brackets. Labeled words are described with natural words to leverage the potential knowledge of the pre-trained model   \n",
    "\n",
    "<img src=\"img/gen_kg_construction/label_augmented.png\" width=\"550\" height=\"550\">  \n"
   ]
  },
  {
   "cell_type": "markdown",
   "id": "598ad696-ff3d-40e3-b154-7427f664c157",
   "metadata": {
    "editable": true,
    "slide_type": "slide",
    "slideshow": {
     "slide_type": "slide"
    },
    "tags": []
   },
   "source": [
    "### Indice based sequence\n",
    "This paradigm generates the **indices of the words in the input text of interest directly and encodes\n",
    "class labels as label indices.** As the output is strictly restricted, it will not generate indices that corre-\n",
    "sponding entities do not exist in the input text, except for relation labels.  \n",
    "\n",
    "\n",
    "<img src=\"img/gen_kg_construction/indice_based_sequence.png\" width=\"550\" height=\"550\">   \n"
   ]
  },
  {
   "cell_type": "markdown",
   "id": "d0a424c4-4632-4833-8e41-44d5d50e7793",
   "metadata": {
    "editable": true,
    "slide_type": "slide",
    "slideshow": {
     "slide_type": "slide"
    },
    "tags": []
   },
   "source": [
    "### Blank based sequence\n",
    "This paradigm refers to **utilizing templates to define the appropriate order and relationship for the generated spans**.  \n",
    "\n",
    "\n",
    "<img src=\"img/gen_kg_construction/blank_based_sequence.png\" width=\"550\" height=\"550\">  \n"
   ]
  },
  {
   "cell_type": "markdown",
   "id": "b7b4e6f9-f7a0-4b48-afd0-e602353e0847",
   "metadata": {
    "editable": true,
    "slide_type": "slide",
    "slideshow": {
     "slide_type": "slide"
    },
    "tags": []
   },
   "source": [
    "**Key works:**  \n",
    "1. Du et al. (NAACL HLT 2021) explores a blank-based form for event extraction tasks which\n",
    "includes special tokens representing event information such as event types.\n",
    "2. Li et al. (NAACL2021) frames document-level event argument extraction as conditional generation given a template and introduces\n",
    "the new document-level informative to aid the generation process. The template refers to a text describing an event type, which adds blank argument role placeholders."
   ]
  },
  {
   "cell_type": "markdown",
   "id": "347ae327-4abe-462c-a69a-e84a1443e3e3",
   "metadata": {
    "editable": true,
    "slide_type": "slide",
    "slideshow": {
     "slide_type": "slide"
    },
    "tags": []
   },
   "source": [
    "## Evaluation criteria\n",
    "- **Semantic utilization** refers to the degree to which the model leverages the semantics of the labels.\n",
    "- **Search space** refers to the vocabulary space searched by the decoder.\n",
    "- **Application scope** refers to the range of KGC tasks that can be applied.\n",
    "- **Template cost** refers to the cost of constructing the input and golden output text. Note: **Mostly require linear concatenation however, the blank-based paradigm requires more labor consumption to make the template conform to the semantic fluency requirement.**"
   ]
  },
  {
   "cell_type": "markdown",
   "id": "b8f50a09-614f-4a02-ada0-6a5993cfcded",
   "metadata": {
    "editable": true,
    "slide_type": "slide",
    "slideshow": {
     "slide_type": "slide"
    },
    "tags": []
   },
   "source": [
    "#### Comparative analysis\n",
    "<img src=\"img/gen_kg_construction/comparitive_analysis.png\" width=\"550\" height=\"550\">  \n"
   ]
  },
  {
   "cell_type": "markdown",
   "id": "ede4c1a2-137f-42b3-9a37-d34886854029",
   "metadata": {
    "editable": true,
    "slide_type": "slide",
    "slideshow": {
     "slide_type": "slide"
    },
    "tags": []
   },
   "source": [
    "# Observations\n",
    "**Tasks:** entity/relation extraction and event extraction\n",
    "\n",
    "\n",
    "1. **Structure-based and label-based methods both achieve similar extraction performance compared with all discrimination models on NYT datasets**. We believe this is because they can better utilize label semantics and structural knowledge than other generation methods.\n",
    "2. Although the discrimination methods obtain good performance, the performance of the generation methods has been improved more vastly in recent years, so we have reason to believe that they will have greater application scope in the near future."
   ]
  }
 ],
 "metadata": {
  "kernelspec": {
   "display_name": "Python 3 (ipykernel)",
   "language": "python",
   "name": "python3"
  },
  "language_info": {
   "codemirror_mode": {
    "name": "ipython",
    "version": 3
   },
   "file_extension": ".py",
   "mimetype": "text/x-python",
   "name": "python",
   "nbconvert_exporter": "python",
   "pygments_lexer": "ipython3",
   "version": "3.11.3"
  }
 },
 "nbformat": 4,
 "nbformat_minor": 5
}
