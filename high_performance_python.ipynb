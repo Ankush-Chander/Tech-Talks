{
 "cells": [
  {
   "cell_type": "markdown",
   "id": "3ca8b052-2ed0-4116-91c2-762e9492feb8",
   "metadata": {
    "editable": false,
    "slide_type": "slide",
    "slideshow": {
     "slide_type": "slide"
    },
    "tags": []
   },
   "source": [
    "# High Performance Python\n",
    "\n",
    "### by Ankush Chander\n",
    "Research Engineer"
   ]
  },
  {
   "cell_type": "markdown",
   "id": "e1906c8d-4e45-44a8-b843-eb98d46fbbe4",
   "metadata": {
    "editable": false,
    "slide_type": "slide",
    "slideshow": {
     "slide_type": "slide"
    },
    "tags": []
   },
   "source": [
    "## Table of contents:\n",
    "1. The Fundamental Computer System\n",
    "2. Profiling techniques\n",
    "3. Python lists\n",
    "4. Dictionary and namespaces\n",
    "\n",
    "\n",
    "\n",
    "\n",
    "\n",
    "\n",
    "\n",
    "\n",
    "\n",
    "\n"
   ]
  },
  {
   "cell_type": "code",
   "execution_count": 1,
   "id": "96207c4a-a771-4b82-86de-850ca6536760",
   "metadata": {
    "editable": false,
    "slide_type": "slide",
    "slideshow": {
     "slide_type": "slide"
    },
    "tags": []
   },
   "outputs": [
    {
     "name": "stdout",
     "output_type": "stream",
     "text": [
      "Requirement already satisfied: memory_profiler in ./venv/lib/python3.11/site-packages (0.61.0)\n",
      "Requirement already satisfied: psutil in ./venv/lib/python3.11/site-packages (from memory_profiler) (5.9.7)\n",
      "\n",
      "\u001b[1m[\u001b[0m\u001b[34;49mnotice\u001b[0m\u001b[1;39;49m]\u001b[0m\u001b[39;49m A new release of pip available: \u001b[0m\u001b[31;49m22.3.1\u001b[0m\u001b[39;49m -> \u001b[0m\u001b[32;49m24.0\u001b[0m\n",
      "\u001b[1m[\u001b[0m\u001b[34;49mnotice\u001b[0m\u001b[1;39;49m]\u001b[0m\u001b[39;49m To update, run: \u001b[0m\u001b[32;49mpip install --upgrade pip\u001b[0m\n"
     ]
    }
   ],
   "source": [
    "! pip install memory_profiler\n",
    "%load_ext memory_profiler\n",
    "# for %timeit and %memit"
   ]
  },
  {
   "cell_type": "markdown",
   "id": "25f2d7fb-0dfc-4262-abed-7269c3a2b4d6",
   "metadata": {
    "editable": false,
    "slide_type": "slide",
    "slideshow": {
     "slide_type": "slide"
    },
    "tags": []
   },
   "source": [
    "## Fundamental Computer System\n",
    "\n",
    "### Computing units\n",
    "Provides the ability to transform bits it recieves  into other bits or to change the state of process.\n",
    "Eg: CPU(commonly used), GPU(auxilary unit) \n",
    "\n",
    "### Memory units\n",
    "Used to store bits.\n",
    "Eg: Spinning disc, Solid State Drive(SSD), RAM, l1/l2/l3 cache, CPU registers  \n",
    "\n",
    "### Communication layers\n",
    "How fast we can move data from one place to another\n",
    "Eg: Frontside bus(between RAM and l1/l2 cache), External bus(hardware devices to CPU and main memory) \n"
   ]
  },
  {
   "cell_type": "markdown",
   "id": "ad287273-6e01-4cba-b29e-5769d3c97bb5",
   "metadata": {
    "editable": true,
    "slide_type": "slide",
    "slideshow": {
     "slide_type": "slide"
    },
    "tags": []
   },
   "source": [
    "## Computing units\n",
    "Provides the ability to transform bits it recieves  into other bits or to change the state of process.\n",
    "\n",
    "#### Measurements:\n",
    "\n",
    "How many cycles per second?(Clock speed)  \n",
    "A CPU cycle is the basic unit of time used by a CPU to execute an instruction. It consists of a fetch, decode, execute, and write-back phase.\n",
    "\n",
    "How many instructions per cycle(IPC)?  \n",
    "Having a high IPC can drastically affect computing by changing the level of vectorization that is possible. \n"
   ]
  },
  {
   "cell_type": "markdown",
   "id": "c0e364e6-cbe0-4deb-b606-b9261afa4bba",
   "metadata": {
    "editable": true,
    "slide_type": "slide",
    "slideshow": {
     "slide_type": "slide"
    },
    "tags": []
   },
   "source": [
    "#### Commands:\n",
    "```\n",
    "lscpu\n",
    "eg: output\n",
    "CPU MHz:                         1700.000 # 1 MHz means 1 million cycles per second\n",
    "CPU max MHz:                     4700.0000\n",
    "CPU min MHz:                     400.0000\n",
    "BogoMIPS:                        3379.20  # Million instructions per second\n",
    "```"
   ]
  },
  {
   "cell_type": "markdown",
   "id": "a147ea66-dadd-4005-bccc-0a0c8269be0a",
   "metadata": {
    "editable": false,
    "slide_type": "slide",
    "slideshow": {
     "slide_type": "slide"
    },
    "tags": []
   },
   "source": [
    "### Memory units\n",
    "Used to store bits.\n",
    "#### Measurements\n",
    "1. How much data it can hold? \n",
    "2. How fast it can read/write to it.\n",
    "3. How fast it take to locate data \n",
    "\n",
    "#### Tiered structure:\n",
    "1. Spinning hard drive\n",
    "2. Solid State hard drive\n",
    "3. RAM\n",
    "4. l1/l2/l3 cache\n",
    "5. CPU registers"
   ]
  },
  {
   "cell_type": "markdown",
   "id": "a19492f4-1351-464a-a5b3-83a29c896f81",
   "metadata": {
    "slide_type": "slide",
    "slideshow": {
     "slide_type": "slide"
    },
    "tags": []
   },
   "source": [
    "## Relative time latency \n",
    "![Memory access](img/relative-time-latencies-computer-programming.jpg)  \n",
    "Image credits: [Relative time latencies and computer programming](https://alvinalexander.com/photos/relative-time-latencies-and-computer-programming/)"
   ]
  },
  {
   "cell_type": "markdown",
   "id": "10ce7140-fc43-4343-9cde-191398f3b968",
   "metadata": {
    "editable": false,
    "slide_type": "slide",
    "slideshow": {
     "slide_type": "slide"
    },
    "tags": []
   },
   "source": [
    "## Communication layers\n",
    "How fast we can move data from one place to another\n",
    "\n",
    "### Measurements:\n",
    "How much data can a bus move in transfer?(Bus width)\n",
    "How many transfers bus can make in 1 second(bus frequency)\n",
    "\n",
    "### Types of bus:\n",
    "1. Frontside bus: connects RAM to l1/l2 cache\n",
    "2. External bus: connect external devices to system memory/CPU\n",
    "3. PCI bus: For peripheral devices\n"
   ]
  },
  {
   "cell_type": "markdown",
   "id": "e94579c4-4e11-4234-9d7c-504d7d7cb1bf",
   "metadata": {
    "editable": false,
    "slide_type": "slide",
    "slideshow": {
     "slide_type": "slide"
    },
    "tags": []
   },
   "source": [
    "## Language choices\n",
    "### Python is a garbage-collected language \n",
    "Memory is automatically allocated and freed when needed.\n",
    "Leads to mempory fragmentation.\n",
    "### Dynamic types and language not being compiled\n",
    "If code is static than compiler can make lot of optimization to lay out objects in memory efficiently so that CPU run certain instructions more efficiently. Python being dynalic language reduces the scope of such optimzation. \n",
    "### Global interpretor lock(GIL)\n",
    "Python handles race condtions and deadlocks using GIL. GIL makes sure that a Python process can run only one instruction at a time regardless of number of cores it is currently using."
   ]
  },
  {
   "cell_type": "markdown",
   "id": "0b1a7f5a-0628-4fe2-abda-039e0e8f8a37",
   "metadata": {
    "editable": false,
    "slide_type": "slide",
    "slideshow": {
     "slide_type": "slide"
    },
    "tags": []
   },
   "source": [
    "## Why use python?\n",
    "1. It\"s \"batteried included\" language with key features either builtin or accessible via external libraries.\n",
    "2. Managed environments and shells available.\n",
    "3. It\"s faster to prototype ideas in python."
   ]
  },
  {
   "cell_type": "markdown",
   "id": "16324d4d-581f-42f2-81e5-ea6707c1ae1c",
   "metadata": {
    "editable": false,
    "slide_type": "slide",
    "slideshow": {
     "slide_type": "slide"
    },
    "tags": []
   },
   "source": [
    "## Profiling techniques\n",
    "1. Simple approaches  \n",
    "2. linux time command  \n",
    "3. line_profiler  \n",
    "4. perf module"
   ]
  },
  {
   "cell_type": "markdown",
   "id": "62390476-5989-4c23-8869-334b7d621397",
   "metadata": {
    "editable": true,
    "slideshow": {
     "slide_type": "slide"
    },
    "tags": []
   },
   "source": [
    "### Simple approaches to timing - print and decorator"
   ]
  },
  {
   "cell_type": "code",
   "execution_count": 22,
   "id": "4d64c44f-0656-4d97-9bc1-2f4b0976da93",
   "metadata": {
    "editable": false,
    "slide_type": "slide",
    "slideshow": {
     "slide_type": "fragment"
    },
    "tags": []
   },
   "outputs": [
    {
     "name": "stdout",
     "output_type": "stream",
     "text": [
      "took 4.000414609909058 secs\n"
     ]
    }
   ],
   "source": [
    "# time module\n",
    "import time\n",
    "\n",
    "s_time = time.time()\n",
    "time.sleep(4)\n",
    "print(f\"took {time.time() - s_time} secs\")"
   ]
  },
  {
   "cell_type": "code",
   "execution_count": 25,
   "id": "aa566723-fa8a-4770-a361-0c33c3fc3fe0",
   "metadata": {
    "slide_type": "slide",
    "slideshow": {
     "slide_type": "slide"
    },
    "tags": []
   },
   "outputs": [],
   "source": [
    "# log function\"s execution time using decorator\n",
    "\n",
    "import time\n",
    "from functools import wraps\n",
    "\n",
    "def timer_func(func):\n",
    "    # This function shows the execution time of \n",
    "    # the function object passed\n",
    "    @wraps(func)\n",
    "    def wrap_func(*args, **kwargs):\n",
    "        t1 = time.time()\n",
    "        result = func(*args, **kwargs)\n",
    "        t2 = time.time()\n",
    "        print(f'Function {func.__name__!r} executed in {(t2-t1):.4f}s')\n",
    "        return result\n",
    "    return wrap_func\n",
    "  \n",
    "\n",
    "@timer_func\n",
    "def lengthy_function():\n",
    "    time.sleep(4)\n",
    "    \n",
    "    \n",
    "lengthy_function()"
   ]
  },
  {
   "cell_type": "markdown",
   "id": "845f3267-1541-470b-a566-7df94e6737b7",
   "metadata": {
    "editable": true,
    "slide_type": "slide",
    "slideshow": {
     "slide_type": "slide"
    },
    "tags": []
   },
   "source": [
    "### Simple Timing Using the Unix `time` Command"
   ]
  },
  {
   "cell_type": "code",
   "execution_count": 26,
   "id": "2f67bddf-1f6b-4231-ac94-9704e0f500aa",
   "metadata": {
    "editable": true,
    "slideshow": {
     "slide_type": "fragment"
    },
    "tags": []
   },
   "outputs": [
    {
     "name": "stdout",
     "output_type": "stream",
     "text": [
      "\n",
      "real\t0m3.258s\n",
      "user\t0m3.249s\n",
      "sys\t0m0.008s\n"
     ]
    }
   ],
   "source": [
    "! time python3 -u high_performance_python_examples/insertion_sort.py  10000"
   ]
  },
  {
   "cell_type": "markdown",
   "id": "02106fff-6cf4-40d6-a2c4-ffcac8d8d5af",
   "metadata": {
    "editable": false,
    "slide_type": "slide",
    "slideshow": {
     "slide_type": "slide"
    },
    "tags": []
   },
   "source": [
    "### line_profiler\n",
    "```\n",
    "# installation: \n",
    "pip install line_profiler\n",
    "\n",
    "# decorate functions to be profile using @profile\n",
    "\n",
    "# how to run\n",
    "kernprof -l -v  python_script.py\n",
    "```\n",
    "\n",
    "line_profiler provides following info corresponding to each line\n",
    "\n",
    "Line: Line number\n",
    "\n",
    "Hits: number of times line got executed\n",
    "\n",
    "Per Hit: approx time taken by that line\n",
    "\n",
    "% Time: percentage time spent executing the line\n",
    "\n",
    "Line Contents: Line content\n",
    "\n",
    "%time is most useful parameter in case looking for CPU bottlenecks"
   ]
  },
  {
   "cell_type": "code",
   "execution_count": 5,
   "id": "d26982cf-e6c6-4a34-9dce-76fface82df9",
   "metadata": {
    "editable": true,
    "slideshow": {
     "slide_type": "slide"
    },
    "tags": []
   },
   "outputs": [
    {
     "name": "stdout",
     "output_type": "stream",
     "text": [
      "Wrote profile results to insertion_sort.py.lprof\n",
      "Timer unit: 1e-06 s\n",
      "\n",
      "Total time: 0.004956 s\n",
      "File: high_performance_python_examples/insertion_sort.py\n",
      "Function: insertion_sort at line 13\n",
      "\n",
      "Line #      Hits         Time  Per Hit   % Time  Line Contents\n",
      "==============================================================\n",
      "    13                                           @profile\n",
      "    14                                           def insertion_sort(arr):\n",
      "    15                                               # Traverse through 1 to len(arr)\n",
      "    16        99         31.0      0.3      0.6      for i in range(1, len(arr)):\n",
      "    17        98         33.0      0.3      0.7          key = arr[i]\n",
      "    18                                                   # Move elements of arr[0..i-1], that are\n",
      "    19                                                   # greater than key, to one position ahead\n",
      "    20                                                   # of their current position\n",
      "    21        98         32.0      0.3      0.6          j = i - 1\n",
      "    22      4949       1784.0      0.4     36.0          while j >= 0 and key < arr[j]:\n",
      "    23      4851       1617.0      0.3     32.6              arr[j + 1] = arr[j]\n",
      "    24      4851       1427.0      0.3     28.8              j -= 1\n",
      "    25        98         32.0      0.3      0.6          arr[j + 1] = key\n",
      "\n"
     ]
    }
   ],
   "source": [
    "! kernprof -l -v  high_performance_python_examples/insertion_sort.py"
   ]
  },
  {
   "cell_type": "markdown",
   "id": "07064b42-97e0-41fd-a5e2-1968cf857d91",
   "metadata": {
    "editable": false,
    "slide_type": "slide",
    "slideshow": {
     "slide_type": "slide"
    },
    "tags": []
   },
   "source": [
    "### perf module\n",
    "Probing how well memory is being moved to the CPU can be quite hard; however, in\n",
    "Linux the perf tool can be used to get amazing amounts of insight into how the CPU\n",
    "is dealing with the program being run.\n",
    "\n",
    "```\n",
    "# installation:\n",
    "sudo apt update\n",
    "sudo apt install linux-tools-common\n",
    "\n",
    "# how to run?\n",
    "sudo perf stat -e cycles,stalled-cycles-frontend,stalled-cycles-backend,instructions,cache-references,cache-misses,branches,branch-misses,task-clock,faults,minor-faults,cs,migrations -r 3 python3 high_performance_python_examples/insertion_sort.py \n",
    "\n",
    "# cycles:  tells us how many clock cycles our task took.\n",
    "#instructions:  tells us how many instructions our code is issuing to the CPU.\n",
    "#cache-references: data attempted to be referenced via cache\n",
    "#cache-misses: data references not found in cache and was fetched from RAM\n",
    "#branches: a time in the code where the execution flow changes. eg: if..else \n",
    "#branch-misses: cpu tries to predict the flow and preload the instructions. when prediction is incorrect.\n",
    "#faults: memory allocations\n",
    "```\n"
   ]
  },
  {
   "cell_type": "markdown",
   "id": "847a75f6-0667-4e8a-a956-4719a3188a08",
   "metadata": {
    "editable": false,
    "slide_type": "slide",
    "slideshow": {
     "slide_type": "slide"
    },
    "tags": []
   },
   "source": [
    "## Strategies for profiling code \n",
    "1. Disable TurboBoost in the BIOS.\n",
    "\n",
    "2. Disable the operating system’s ability to override the SpeedStep (you will find this in your BIOS if you’re allowed to control it).\n",
    "\n",
    "3. Only use mains power (never battery power).\n",
    "\n",
    "4. Disable background tools like backups and Dropbox while running experiments.\n",
    "\n",
    "5. Run the experiments many times to obtain a stable measurement.\n",
    "\n",
    "6. Possibly drop to run level 1 (Unix) so that no other tasks are running.\n",
    "\n",
    "7. Reboot and rerun the experiments to double-confirm the results."
   ]
  },
  {
   "cell_type": "markdown",
   "id": "09166430-62c4-4a10-9b00-8bf7f04f79dc",
   "metadata": {
    "editable": false,
    "slide_type": "slide",
    "slideshow": {
     "slide_type": "slide"
    },
    "tags": []
   },
   "source": [
    "## Data structures and tradeoffs and quirks\n",
    "1. Dynamic lists and caching\n",
    "2. Resizing and memory allocation\n",
    "3. Difference between python lists and Numpy arrays\n",
    "4. Performance analysis of dictionaries"
   ]
  },
  {
   "cell_type": "markdown",
   "id": "5f44eba6-bae4-415c-8261-3a4fee524f06",
   "metadata": {
    "editable": false,
    "slide_type": "slide",
    "slideshow": {
     "slide_type": "slide"
    },
    "tags": []
   },
   "source": [
    "### Lists\n",
    "Python lists are dynamic in nature.\n",
    "\n",
    "#### Pros: \n",
    "1. User dont need to know list size before hand.\n",
    "2. User don\"t have to handle resizing\n",
    "#### Cons:\n",
    "1. Resizing(in background) makes appending to array slower.  \n",
    "2. Due to resizing lists usually take more space than the elements it holds."
   ]
  },
  {
   "cell_type": "code",
   "execution_count": 27,
   "id": "4c0bcd73-c84c-4213-80ac-22ca87979f56",
   "metadata": {
    "editable": false,
    "slide_type": "slide",
    "slideshow": {
     "slide_type": "slide"
    },
    "tags": []
   },
   "outputs": [
    {
     "name": "stdout",
     "output_type": "stream",
     "text": [
      "267 µs ± 3.97 µs per loop (mean ± std. dev. of 7 runs, 1,000 loops each)\n"
     ]
    }
   ],
   "source": [
    "%timeit [i*i for i in range(10000)]"
   ]
  },
  {
   "cell_type": "code",
   "execution_count": 28,
   "id": "75c9857b-b9a8-4ed7-85a8-a3d4910f22d6",
   "metadata": {
    "editable": false,
    "slide_type": "slide",
    "slideshow": {
     "slide_type": "fragment"
    },
    "tags": []
   },
   "outputs": [
    {
     "name": "stdout",
     "output_type": "stream",
     "text": [
      "458 µs ± 7.55 µs per loop (mean ± std. dev. of 7 runs, 1,000 loops each)\n"
     ]
    }
   ],
   "source": [
    "%%timeit l = []\n",
    "for i in range(10000):\n",
    "    l.append(i*i)\n",
    "    \n",
    "# takes more time because of list resizing"
   ]
  },
  {
   "cell_type": "code",
   "execution_count": 29,
   "id": "c4d97085-2674-45e1-9a77-fa046ba4b51b",
   "metadata": {
    "editable": false,
    "slide_type": "slide",
    "slideshow": {
     "slide_type": "fragment"
    },
    "tags": []
   },
   "outputs": [
    {
     "name": "stdout",
     "output_type": "stream",
     "text": [
      "peak memory: 161.44 MiB, increment: 0.00 MiB\n"
     ]
    }
   ],
   "source": [
    "%memit [i*i for i in range(1000000)]"
   ]
  },
  {
   "cell_type": "code",
   "execution_count": 30,
   "id": "f6793aab-031e-4c4c-8965-91d13b7bdd54",
   "metadata": {
    "editable": false,
    "slide_type": "slide",
    "slideshow": {
     "slide_type": "fragment"
    },
    "tags": []
   },
   "outputs": [
    {
     "name": "stdout",
     "output_type": "stream",
     "text": [
      "peak memory: 159.16 MiB, increment: 27.62 MiB\n"
     ]
    }
   ],
   "source": [
    "%%memit l = []\n",
    "for i in range(1000000):\n",
    "    l.append(i*i)\n",
    "    \n",
    "# takes more time because of list resizing"
   ]
  },
  {
   "cell_type": "markdown",
   "id": "b26bced2-d0f1-4586-988d-3dff267e9f26",
   "metadata": {
    "editable": false,
    "slide_type": "slide",
    "slideshow": {
     "slide_type": "slide"
    },
    "tags": []
   },
   "source": [
    "## Key Factors\n",
    "### Memory allocations: \n",
    "Memory allocations are not cheap. Whenver you assign a value to variable interpreter needs to talk to Operating system to allocate new space and then iterate over that space to access it. Try to allocate space fewer times and then reuse that space throughout the program.\n",
    "\n",
    "### Memory fragmentation:\n",
    "Python lists doesn\"t natively support vectorization because lists doesnt store the actual data but pointers to it.\n",
    "\n",
    "### Cache misses\n",
    "Since data is fragmented across different memory locations, you must move each piece over instead of a block over, hence missing out on benifits of caching\n"
   ]
  },
  {
   "cell_type": "markdown",
   "id": "5684fd7c-9068-45af-a6bb-66f23985cc06",
   "metadata": {
    "editable": false,
    "slide_type": "slide",
    "slideshow": {
     "slide_type": "slide"
    },
    "tags": []
   },
   "source": [
    "## Lists vs numpy arrrays"
   ]
  },
  {
   "cell_type": "code",
   "execution_count": 10,
   "id": "d612bb82-6972-4a02-a226-9cff6ce8beac",
   "metadata": {
    "slide_type": "slide",
    "slideshow": {
     "slide_type": "slide"
    },
    "tags": []
   },
   "outputs": [],
   "source": [
    "from array import array\n",
    "import numpy as np\n",
    "\n",
    "\n",
    "def norm_square_list(vector):\n",
    "    norm = 0\n",
    "    for v in vector:\n",
    "        norm += v*v\n",
    "    return norm\n",
    "\n",
    "\n",
    "def norm_square_list_comprehension(vector):\n",
    "    return sum([v*v for v in vector])\n",
    "\n",
    "\n",
    "def norm_square_numpy(vector):\n",
    "    return np.sum(vector * vector)\n",
    "\n",
    "\n",
    "def norm_square_numpy_dot(vector):\n",
    "    return np.dot(vector, vector)\n",
    "\n"
   ]
  },
  {
   "cell_type": "code",
   "execution_count": 11,
   "id": "bd29f98e-d45b-4366-9bc0-857ed437a8bf",
   "metadata": {
    "editable": false,
    "slide_type": "slide",
    "slideshow": {
     "slide_type": "slide"
    },
    "tags": []
   },
   "outputs": [
    {
     "name": "stdout",
     "output_type": "stream",
     "text": [
      "47.8 ms ± 4.09 ms per loop (mean ± std. dev. of 7 runs, 10 loops each)\n"
     ]
    }
   ],
   "source": [
    "%%timeit\n",
    "vector = list(range(1000000))\n",
    "norm_square_list(vector)"
   ]
  },
  {
   "cell_type": "code",
   "execution_count": 12,
   "id": "145f6cb9-272f-433b-9575-d12a1fe9d6d9",
   "metadata": {
    "editable": false,
    "slide_type": "slide",
    "slideshow": {
     "slide_type": "fragment"
    },
    "tags": []
   },
   "outputs": [
    {
     "name": "stdout",
     "output_type": "stream",
     "text": [
      "57.5 ms ± 576 µs per loop (mean ± std. dev. of 7 runs, 10 loops each)\n"
     ]
    }
   ],
   "source": [
    "%%timeit\n",
    "vector = list(range(1000000))\n",
    "norm_square_list_comprehension(vector)"
   ]
  },
  {
   "cell_type": "code",
   "execution_count": 13,
   "id": "3d476eab-d518-41c5-9718-a604690c4712",
   "metadata": {
    "editable": false,
    "slide_type": "slide",
    "slideshow": {
     "slide_type": "fragment"
    },
    "tags": []
   },
   "outputs": [
    {
     "name": "stdout",
     "output_type": "stream",
     "text": [
      "957 µs ± 6.67 µs per loop (mean ± std. dev. of 7 runs, 1,000 loops each)\n"
     ]
    }
   ],
   "source": [
    "%%timeit\n",
    "vector_numpy = np.arange(1000000)\n",
    "norm_square_numpy(vector_numpy)\n",
    "# numpy has specialized code in C that takes benifits of any vectorization that CPU has enabled. \n",
    "#Also numpy arrays are represented sequentially in memory as low level data types"
   ]
  },
  {
   "cell_type": "code",
   "execution_count": 14,
   "id": "f5410c7f-4e19-4316-bdae-30fdc2d02b20",
   "metadata": {
    "editable": false,
    "slide_type": "slide",
    "slideshow": {
     "slide_type": "fragment"
    },
    "tags": []
   },
   "outputs": [
    {
     "name": "stdout",
     "output_type": "stream",
     "text": [
      "975 µs ± 167 µs per loop (mean ± std. dev. of 7 runs, 1,000 loops each)\n"
     ]
    }
   ],
   "source": [
    "%%timeit\n",
    "vector_numpy = np.arange(1000000)\n",
    "norm_square_numpy_dot(vector_numpy)\n",
    "# uses specialized code that doesn\"t need to store intermediate output of (vector * vector)"
   ]
  },
  {
   "cell_type": "markdown",
   "id": "6926e1f7-3678-4f16-9798-766595f578af",
   "metadata": {
    "editable": true,
    "slide_type": "slide",
    "slideshow": {
     "slide_type": "slide"
    },
    "tags": []
   },
   "source": [
    "## Dictionaries and namespaces\n",
    "Python’s namespace management, which heavily uses dictionaries to do its lookups.\n",
    "Whenever a variable, function, or module is invoked in Python, there is a hierarchy that\n",
    "determines where it looks for these objects. First, Python looks inside of the **locals()\n",
    "array**, which has entries for all local variables. Python works hard to make local variable\n",
    "lookups fast, and this is the only part of the chain that doesn’t require a dictionary\n",
    "lookup. If it doesn’t exist there, then the **globals() dictionary** is searched. Finally, if the\n",
    "object isn’t found there, the **__builtin__ object** is searched."
   ]
  },
  {
   "cell_type": "code",
   "execution_count": 15,
   "id": "e3dfbaf4-e81e-4d3e-a2e2-829d12da01cf",
   "metadata": {
    "editable": false,
    "slide_type": "slide",
    "slideshow": {
     "slide_type": "slide"
    },
    "tags": []
   },
   "outputs": [],
   "source": [
    "import math\n",
    "from math import sin\n",
    "import dis\n",
    "\n",
    "def test1(x):\n",
    "    \"\"\"\n",
    "    resolve `math` from globals()\n",
    "    resolve `sin` from math module\n",
    "    local lookup for x\n",
    "    \n",
    "    \"\"\"\n",
    "    return math.sin(x)\n",
    "\n",
    "\n",
    "def test2(x):\n",
    "    \"\"\"\n",
    "    resolve sin from globals()\n",
    "    resolve x from locals()\n",
    "    \"\"\"\n",
    "    return sin(x)\n",
    "\n",
    "\n",
    "def test3(x, sin=math.sin):\n",
    "    \"\"\"\n",
    "    resolve sin from locals()\n",
    "    resolve x from locals()\n",
    "    \"\"\"\n",
    "    return sin(x)"
   ]
  },
  {
   "cell_type": "code",
   "execution_count": 16,
   "id": "5217eac5-5eb1-4136-98ba-44b90e57fe4c",
   "metadata": {
    "editable": false,
    "slide_type": "slide",
    "slideshow": {
     "slide_type": "slide"
    },
    "tags": []
   },
   "outputs": [
    {
     "name": "stdout",
     "output_type": "stream",
     "text": [
      "55.2 ns ± 0.442 ns per loop (mean ± std. dev. of 7 runs, 10,000,000 loops each)\n"
     ]
    }
   ],
   "source": [
    "%timeit test1(123456) \n",
    "#2 dictionary lookup, 1 local lookup\n"
   ]
  },
  {
   "cell_type": "code",
   "execution_count": 17,
   "id": "64c696c0-f1da-4636-942d-27ea6d7d385f",
   "metadata": {
    "editable": false,
    "slide_type": "slide",
    "slideshow": {
     "slide_type": "fragment"
    },
    "tags": []
   },
   "outputs": [
    {
     "name": "stdout",
     "output_type": "stream",
     "text": [
      "52.4 ns ± 0.087 ns per loop (mean ± std. dev. of 7 runs, 10,000,000 loops each)\n"
     ]
    }
   ],
   "source": [
    "%timeit test2(123456)\n",
    "#1 dictionary lookup, 1 local lookup"
   ]
  },
  {
   "cell_type": "code",
   "execution_count": 18,
   "id": "7eef916e-6862-4014-b712-a9de8e99c4de",
   "metadata": {
    "slide_type": "slide",
    "slideshow": {
     "slide_type": "fragment"
    },
    "tags": []
   },
   "outputs": [
    {
     "name": "stdout",
     "output_type": "stream",
     "text": [
      "52.7 ns ± 0.224 ns per loop (mean ± std. dev. of 7 runs, 10,000,000 loops each)\n"
     ]
    }
   ],
   "source": [
    "%timeit test3(123456)\n",
    "# 2 local lookups"
   ]
  },
  {
   "cell_type": "code",
   "execution_count": 19,
   "id": "ca72bf7a-168e-4159-be4a-4fd788be07bd",
   "metadata": {
    "editable": false,
    "slide_type": "slide",
    "slideshow": {
     "slide_type": "slide"
    },
    "tags": []
   },
   "outputs": [
    {
     "name": "stdout",
     "output_type": "stream",
     "text": [
      "  5           0 RESUME                   0\n",
      "\n",
      " 12           2 LOAD_GLOBAL              0 (math)\n",
      "             14 LOAD_METHOD              1 (sin)\n",
      "             36 LOAD_FAST                0 (x)\n",
      "             38 PRECALL                  1\n",
      "             42 CALL                     1\n",
      "             52 RETURN_VALUE\n"
     ]
    }
   ],
   "source": [
    "dis.dis(test1)"
   ]
  },
  {
   "cell_type": "code",
   "execution_count": 20,
   "id": "0ae57af1-d0a5-42c1-8d40-0c150003c0ae",
   "metadata": {
    "editable": false,
    "slide_type": "slide",
    "slideshow": {
     "slide_type": "fragment"
    },
    "tags": []
   },
   "outputs": [
    {
     "name": "stdout",
     "output_type": "stream",
     "text": [
      " 15           0 RESUME                   0\n",
      "\n",
      " 20           2 LOAD_GLOBAL              1 (NULL + sin)\n",
      "             14 LOAD_FAST                0 (x)\n",
      "             16 PRECALL                  1\n",
      "             20 CALL                     1\n",
      "             30 RETURN_VALUE\n"
     ]
    }
   ],
   "source": [
    "dis.dis(test2)"
   ]
  },
  {
   "cell_type": "code",
   "execution_count": 21,
   "id": "4aef281e-3456-4d90-af42-11c4f2e6d458",
   "metadata": {
    "editable": false,
    "slide_type": "slide",
    "slideshow": {
     "slide_type": "slide"
    },
    "tags": []
   },
   "outputs": [
    {
     "name": "stdout",
     "output_type": "stream",
     "text": [
      " 23           0 RESUME                   0\n",
      "\n",
      " 28           2 PUSH_NULL\n",
      "              4 LOAD_FAST                1 (sin)\n",
      "              6 LOAD_FAST                0 (x)\n",
      "              8 PRECALL                  1\n",
      "             12 CALL                     1\n",
      "             22 RETURN_VALUE\n"
     ]
    }
   ],
   "source": [
    "dis.dis(test3)"
   ]
  },
  {
   "cell_type": "markdown",
   "id": "aa937e68-df52-458f-957e-de840d13ac07",
   "metadata": {
    "editable": false,
    "slide_type": "slide",
    "slideshow": {
     "slide_type": "slide"
    },
    "tags": []
   },
   "source": [
    "## Further exploration\n",
    "1. How can we write modules for python using C/fortran/rust\n",
    "2. Multiprocessing\n",
    "3. How can we write code that runs across a cluster and use more machines.\n",
    "4. How can we make programs use less RAM"
   ]
  },
  {
   "cell_type": "markdown",
   "id": "4563de5d-e2b4-48d8-8f34-c18b75993a39",
   "metadata": {
    "editable": false,
    "slide_type": "slide",
    "slideshow": {
     "slide_type": "slide"
    },
    "tags": []
   },
   "source": [
    "## References\n",
    "1. [High Performance Python(book)](https://www.goodreads.com/book/show/49828191-high-performance-python)\n",
    "2. [What Is Clock Speed?](https://www.intel.com/content/www/us/en/gaming/resources/cpu-clock-speed.html)\n",
    "3. [BogoMIPS](https://en.wikipedia.org/wiki/BogoMips)\n",
    "4. [Global Interpretor Lock](https://realpython.com/python-gil/)\n",
    "5. [dis — Disassembler for Python bytecode](https://docs.python.org/3/library/dis.html)\n",
    "6. [Cython and regular expressions](https://romankleiner.blogspot.com/2015/06/cython-and-regular-expressions.html)\n",
    "7. [How can node.js be faster than c and java? Benchmark comparing node.js, c, java and python](https://stackoverflow.com/questions/39360403/how-can-node-js-be-faster-than-c-and-java-benchmark-comparing-node-js-c-java)"
   ]
  }
 ],
 "metadata": {
  "kernelspec": {
   "display_name": "Python 3 (ipykernel)",
   "language": "python",
   "name": "python3"
  },
  "language_info": {
   "codemirror_mode": {
    "name": "ipython",
    "version": 3
   },
   "file_extension": ".py",
   "mimetype": "text/x-python",
   "name": "python",
   "nbconvert_exporter": "python",
   "pygments_lexer": "ipython3",
   "version": "3.11.3"
  }
 },
 "nbformat": 4,
 "nbformat_minor": 5
}
