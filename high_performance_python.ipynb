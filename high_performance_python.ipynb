{
 "cells": [
  {
   "cell_type": "markdown",
   "id": "3ca8b052-2ed0-4116-91c2-762e9492feb8",
   "metadata": {},
   "source": [
    "# High Performance Python\n",
    "\n",
    "### by Ankush Chander\n",
    "Research Engineer, Crimson Interactive"
   ]
  },
  {
   "cell_type": "code",
   "execution_count": 2,
   "id": "96207c4a-a771-4b82-86de-850ca6536760",
   "metadata": {},
   "outputs": [],
   "source": [
    "%load_ext memory_profiler"
   ]
  },
  {
   "cell_type": "markdown",
   "id": "e1906c8d-4e45-44a8-b843-eb98d46fbbe4",
   "metadata": {},
   "source": [
    "## Table of contents:\n",
    "1. The Fundamental Computer System\n",
    "2. Profiling techniques\n",
    "3. Python lists\n",
    "4. Dictionary and namespaces\n",
    "\n",
    "\n",
    "\n",
    "\n",
    "\n",
    "\n",
    "\n",
    "\n",
    "\n",
    "\n"
   ]
  },
  {
   "cell_type": "markdown",
   "id": "25f2d7fb-0dfc-4262-abed-7269c3a2b4d6",
   "metadata": {},
   "source": [
    "## Fundamental Computer System\n",
    "\n",
    "### Computing units\n",
    "Provides the ability to transform bits it recieves  into other bits or to change the state of process.\n",
    "Eg: CPU(commonly used), GPU(auxilary unit) \n",
    "\n",
    "### Memory units\n",
    "Used to store bits.\n",
    "Eg: Spinning disc, Solid State Drive(SSD), RAM, l1/l2/l3 cache, CPU registers  \n",
    "\n",
    "### Communication layers\n",
    "How fast we can move data from one place to another\n",
    "Eg: Frontside bus(between RAM and l1/l2 cache), External bus(hardware devices to CPU and main memory) \n"
   ]
  },
  {
   "cell_type": "markdown",
   "id": "ad287273-6e01-4cba-b29e-5769d3c97bb5",
   "metadata": {},
   "source": [
    "## Computing units\n",
    "Provides the ability to transform bits it recieves  into other bits or to change the state of process.\n",
    "\n",
    "#### Measurements:\n",
    "\n",
    "How many cycles per second?(Clock speed)\n",
    "\n",
    "How many instructions per cycle(IPC)?\n",
    "\n",
    "#### Commands:\n",
    "```\n",
    "lscpu\n",
    "eg: output\n",
    "CPU MHz:                         1700.000 # 1 MHz means 1 million cycles per second\n",
    "CPU max MHz:                     4700.0000\n",
    "CPU min MHz:                     400.0000\n",
    "BogoMIPS:                        3379.20  # Million instructions per second\n",
    "```"
   ]
  },
  {
   "cell_type": "markdown",
   "id": "a147ea66-dadd-4005-bccc-0a0c8269be0a",
   "metadata": {},
   "source": [
    "### Memory units\n",
    "Used to store bits.\n",
    "#### Measurements\n",
    "1. How much data it can hold? \n",
    "2. How fast it can read/write to it.\n",
    "3. How fast it take to locate data \n",
    "\n",
    "#### Tiered structure:\n",
    "1. Spinning hard drive\n",
    "2. Solid State hard drive\n",
    "3. RAM\n",
    "4. l1/l2/l3 cache\n",
    "5. CPU registers"
   ]
  },
  {
   "cell_type": "markdown",
   "id": "10ce7140-fc43-4343-9cde-191398f3b968",
   "metadata": {},
   "source": [
    "## Communication layers\n",
    "How fast we can move data from one place to another\n",
    "\n",
    "### Measurements:\n",
    "How much data can a bus move in transfer?(Bus width)\n",
    "How many transfers bus can make in 1 second(bus frequency)\n",
    "\n",
    "### Types of bus:\n",
    "1. Frontside bus: connects RAM to l1/l2 cache\n",
    "2. External bus: connect external devices to system memory/CPU\n",
    "3. PCI bus: For peripheral devices\n"
   ]
  },
  {
   "cell_type": "markdown",
   "id": "16324d4d-581f-42f2-81e5-ea6707c1ae1c",
   "metadata": {},
   "source": [
    "## Profiling techniques"
   ]
  },
  {
   "cell_type": "markdown",
   "id": "62390476-5989-4c23-8869-334b7d621397",
   "metadata": {},
   "source": [
    "### Simple approaches to timing - print and decorator"
   ]
  },
  {
   "cell_type": "code",
   "execution_count": 1,
   "id": "4d64c44f-0656-4d97-9bc1-2f4b0976da93",
   "metadata": {},
   "outputs": [
    {
     "name": "stdout",
     "output_type": "stream",
     "text": [
      "took 4.00078272819519 secs\n"
     ]
    }
   ],
   "source": [
    "# time module\n",
    "import time\n",
    "\n",
    "s_time = time.time()\n",
    "time.sleep(4)\n",
    "print(f\"took {time.time() - s_time} secs\")"
   ]
  },
  {
   "cell_type": "code",
   "execution_count": 2,
   "id": "aa566723-fa8a-4770-a361-0c33c3fc3fe0",
   "metadata": {},
   "outputs": [
    {
     "name": "stdout",
     "output_type": "stream",
     "text": [
      "Function 'lengthy_function' executed in 4.0014s\n"
     ]
    }
   ],
   "source": [
    "# log function\"s execution time using decorator\n",
    "\n",
    "import time\n",
    "from functools import wraps\n",
    "\n",
    "def timer_func(func):\n",
    "    # This function shows the execution time of \n",
    "    # the function object passed\n",
    "    @wraps(func)\n",
    "    def wrap_func(*args, **kwargs):\n",
    "        t1 = time.time()\n",
    "        result = func(*args, **kwargs)\n",
    "        t2 = time.time()\n",
    "        print(f'Function {func.__name__!r} executed in {(t2-t1):.4f}s')\n",
    "        return result\n",
    "    return wrap_func\n",
    "  \n",
    "\n",
    "@timer_func\n",
    "def lengthy_function():\n",
    "    time.sleep(4)\n",
    "    \n",
    "    \n",
    "lengthy_function()"
   ]
  },
  {
   "cell_type": "markdown",
   "id": "4f24b515-6c07-4182-8a94-6c7593ef50e0",
   "metadata": {},
   "source": [
    "### Simple Timing Using the Unix time Command"
   ]
  },
  {
   "cell_type": "markdown",
   "id": "845f3267-1541-470b-a566-7df94e6737b7",
   "metadata": {},
   "source": [
    "```\n",
    "$ time python3 -u insertion_sort.py  10000\n",
    "\n",
    "real\t0m5.218s\n",
    "user\t0m5.206s\n",
    "sys\t0m0.004s\n",
    "```\n",
    "real records the wall clock or elapsed time.\n",
    "\n",
    "user records the amount of time the CPU spent on your task outside of kernel\n",
    "\n",
    "sys records the time spent in kernel-level functions.\n"
   ]
  },
  {
   "cell_type": "markdown",
   "id": "02106fff-6cf4-40d6-a2c4-ffcac8d8d5af",
   "metadata": {},
   "source": [
    "### line_profiler\n",
    "```\n",
    "# installation: \n",
    "pip install line_profiler\n",
    "\n",
    "# decorate functions to be profile using @profile\n",
    "\n",
    "# how to run\n",
    "kernprof -l -v  python_script.py\n",
    "```\n",
    "\n",
    "line_profiler provides following info corresponding to each line\n",
    "\n",
    "Line: Line number\n",
    "\n",
    "Hits: number of times line got executed\n",
    "\n",
    "Per Hit: approx time taken by that line\n",
    "\n",
    "% Time: percentage time spent executing the line\n",
    "\n",
    "Line Contents: Line content\n",
    "\n",
    "%time is most useful parameter in case looking for CPU bottlenecks"
   ]
  },
  {
   "cell_type": "markdown",
   "id": "07064b42-97e0-41fd-a5e2-1968cf857d91",
   "metadata": {},
   "source": [
    "### perf module\n",
    "Probing how well memory is being moved to the CPU can be quite hard; however, in\n",
    "Linux the perf tool can be used to get amazing amounts of insight into how the CPU\n",
    "is dealing with the program being run.\n",
    "\n",
    "```\n",
    "# installation:\n",
    "sudo apt update\n",
    "sudo apt install linux-tools-common\n",
    "\n",
    "# how to run?\n",
    "sudo perf stat -e cycles,stalled-cycles-frontend,stalled-cycles-backend,instructions,cache-references,cache-misses,branches,branch-misses,task-clock,faults,minor-faults,cs,migrations -r 3 python script_to_profile.py\n",
    "\n",
    "# cycles:  tells us how many clock cycles our task took.\n",
    "#instructions:  tells us how many instructions our code is issuing to the CPU.\n",
    "#cache-references: data attempted to be referenced via cache\n",
    "#cache-misses: data references not found in cache and was fetched from RAM\n",
    "#branches: a time in the code where the execution flow changes. eg: if..else \n",
    "#branch-misses: cpu tries to predict the flow and preload the instructions. when prediction is incorrect.\n",
    "#faults,\n",
    "#minor-faults\n",
    "```\n"
   ]
  },
  {
   "cell_type": "markdown",
   "id": "847a75f6-0667-4e8a-a956-4719a3188a08",
   "metadata": {},
   "source": [
    "## Strategies for profiling code \n",
    "1. Disable TurboBoost in the BIOS.\n",
    "\n",
    "2. Disable the operating system’s ability to override the SpeedStep (you will find this in your BIOS if you’re allowed to control it).\n",
    "\n",
    "3. Only use mains power (never battery power).\n",
    "\n",
    "4. Disable background tools like backups and Dropbox while running experiments.\n",
    "\n",
    "5. Run the experiments many times to obtain a stable measurement.\n",
    "\n",
    "6. Possibly drop to run level 1 (Unix) so that no other tasks are running.\n",
    "\n",
    "7. Reboot and rerun the experiments to double-confirm the results."
   ]
  },
  {
   "cell_type": "markdown",
   "id": "09166430-62c4-4a10-9b00-8bf7f04f79dc",
   "metadata": {},
   "source": [
    "## Data structures and tradeoffs and quirks\n",
    "1. Dynamic lists and caching\n",
    "2. Resizing and memory allocation\n",
    "3. Difference between python lists and Numpy arrays\n",
    "4. Performance analysis of dictionaries"
   ]
  },
  {
   "cell_type": "markdown",
   "id": "5f44eba6-bae4-415c-8261-3a4fee524f06",
   "metadata": {},
   "source": [
    "### Lists\n",
    "Python lists are dynamic in nature.\n",
    "\n",
    "#### Pros: \n",
    "1. User dont need to know list size before hand.\n",
    "2. User don\"t have to handle resizing\n",
    "#### Cons:\n",
    "1. Resizing(in background) makes appending to array slower.  \n",
    "2. Due to resizing lists usually take more space than the elements it holds."
   ]
  },
  {
   "cell_type": "code",
   "execution_count": 51,
   "id": "4c0bcd73-c84c-4213-80ac-22ca87979f56",
   "metadata": {},
   "outputs": [
    {
     "name": "stdout",
     "output_type": "stream",
     "text": [
      "375 µs ± 9.89 µs per loop (mean ± std. dev. of 7 runs, 1,000 loops each)\n"
     ]
    }
   ],
   "source": [
    "%timeit [i*i for i in range(10000)]"
   ]
  },
  {
   "cell_type": "code",
   "execution_count": 52,
   "id": "75c9857b-b9a8-4ed7-85a8-a3d4910f22d6",
   "metadata": {},
   "outputs": [
    {
     "name": "stdout",
     "output_type": "stream",
     "text": [
      "647 µs ± 8.61 µs per loop (mean ± std. dev. of 7 runs, 1,000 loops each)\n"
     ]
    }
   ],
   "source": [
    "%%timeit l = []\n",
    "for i in range(10000):\n",
    "    l.append(i*i)\n",
    "    \n",
    "# takes more time because of list resizing"
   ]
  },
  {
   "cell_type": "code",
   "execution_count": 17,
   "id": "c4d97085-2674-45e1-9a77-fa046ba4b51b",
   "metadata": {},
   "outputs": [
    {
     "name": "stdout",
     "output_type": "stream",
     "text": [
      "peak memory: 115.42 MiB, increment: 6.21 MiB\n"
     ]
    }
   ],
   "source": [
    "%memit [i*i for i in range(1000000)]"
   ]
  },
  {
   "cell_type": "code",
   "execution_count": 18,
   "id": "f6793aab-031e-4c4c-8965-91d13b7bdd54",
   "metadata": {},
   "outputs": [
    {
     "name": "stdout",
     "output_type": "stream",
     "text": [
      "peak memory: 107.53 MiB, increment: 30.25 MiB\n"
     ]
    }
   ],
   "source": [
    "%%memit l = []\n",
    "for i in range(1000000):\n",
    "    l.append(i*i)\n",
    "    \n",
    "# takes more time because of list resizing"
   ]
  },
  {
   "cell_type": "markdown",
   "id": "b26bced2-d0f1-4586-988d-3dff267e9f26",
   "metadata": {},
   "source": [
    "## Key Factors\n",
    "### Memory allocations: \n",
    "Memory allocations are not cheap. Whenver you assign a value to variable interpreter needs to talk to Operating system to allocate new space and then iterate over that space to access it. Try to allocate space fewer times and then reuse that space throughout the program.\n",
    "\n",
    "### Memory fragmentation:\n",
    "Python lists doesn\"t natively support vectorization because lists doesnt store the actual data but pointers to it.\n",
    "\n",
    "### Cache misses\n",
    "Since data is fragmented across different memory locations, you must move each piece over instead of a block over, hence missing out on benifits of caching\n"
   ]
  },
  {
   "cell_type": "code",
   "execution_count": 27,
   "id": "d612bb82-6972-4a02-a226-9cff6ce8beac",
   "metadata": {},
   "outputs": [],
   "source": [
    "from array import array\n",
    "import numpy as np\n",
    "\n",
    "\n",
    "def norm_square_list(vector):\n",
    "    norm = 0\n",
    "    for v in vector:\n",
    "        norm += v*v\n",
    "    return norm\n",
    "\n",
    "\n",
    "def norm_square_list_comprehension(vector):\n",
    "    return sum([v*v for v in vector])\n",
    "\n",
    "\n",
    "def norm_square_array(vector):\n",
    "    norm = 0\n",
    "    for v in vector:\n",
    "        norm += v*v\n",
    "    return norm\n",
    "\n",
    "\n",
    "def norm_square_numpy(vector):\n",
    "    return np.sum(vector * vector)\n",
    "\n",
    "\n",
    "def norm_square_numpy_dot(vector):\n",
    "    return np.dot(vector, vector)\n",
    "\n"
   ]
  },
  {
   "cell_type": "code",
   "execution_count": 31,
   "id": "bd29f98e-d45b-4366-9bc0-857ed437a8bf",
   "metadata": {},
   "outputs": [
    {
     "name": "stdout",
     "output_type": "stream",
     "text": [
      "70.2 ms ± 449 µs per loop (mean ± std. dev. of 7 runs, 10 loops each)\n"
     ]
    }
   ],
   "source": [
    "%%timeit\n",
    "vector = list(range(1000000))\n",
    "norm_square_list(vector)"
   ]
  },
  {
   "cell_type": "code",
   "execution_count": 32,
   "id": "145f6cb9-272f-433b-9575-d12a1fe9d6d9",
   "metadata": {},
   "outputs": [
    {
     "name": "stdout",
     "output_type": "stream",
     "text": [
      "81.1 ms ± 240 µs per loop (mean ± std. dev. of 7 runs, 10 loops each)\n"
     ]
    }
   ],
   "source": [
    "%%timeit\n",
    "vector = list(range(1000000))\n",
    "norm_square_list_comprehension(vector)"
   ]
  },
  {
   "cell_type": "code",
   "execution_count": 33,
   "id": "16b09552-1c09-4d93-9b98-24d2d446555d",
   "metadata": {},
   "outputs": [
    {
     "name": "stdout",
     "output_type": "stream",
     "text": [
      "100 ms ± 454 µs per loop (mean ± std. dev. of 7 runs, 10 loops each)\n"
     ]
    }
   ],
   "source": [
    "%%timeit\n",
    "vector_array = array(\"l\", range(1000000))\n",
    "norm_square_array(vector_array)"
   ]
  },
  {
   "cell_type": "code",
   "execution_count": 35,
   "id": "3d476eab-d518-41c5-9718-a604690c4712",
   "metadata": {},
   "outputs": [
    {
     "name": "stdout",
     "output_type": "stream",
     "text": [
      "1.94 ms ± 98.7 µs per loop (mean ± std. dev. of 7 runs, 100 loops each)\n"
     ]
    }
   ],
   "source": [
    "%%timeit\n",
    "vector_numpy = np.arange(1000000)\n",
    "norm_square_numpy(vector_numpy)\n",
    "# numpy has specialized code in C that takes benifits of any vectorization that CPU has enabled. \n",
    "#Also numpy arrays are represented sequentially in memory as low level data types"
   ]
  },
  {
   "cell_type": "code",
   "execution_count": 25,
   "id": "f5410c7f-4e19-4316-bdae-30fdc2d02b20",
   "metadata": {},
   "outputs": [
    {
     "name": "stdout",
     "output_type": "stream",
     "text": [
      "1.41 ms ± 45.4 µs per loop (mean ± std. dev. of 7 runs, 1,000 loops each)\n"
     ]
    }
   ],
   "source": [
    "%%timeit\n",
    "vector_numpy = np.arange(1000000)\n",
    "norm_square_numpy_dot(vector_numpy)\n",
    "# uses specialized code that doesn\"t need to store intermediate output of (vector * vector)"
   ]
  },
  {
   "cell_type": "markdown",
   "id": "6926e1f7-3678-4f16-9798-766595f578af",
   "metadata": {},
   "source": [
    "## Dictionaries and namespaces\n",
    "Python’s namespace management, which heavily uses dictionaries to do its lookups."
   ]
  },
  {
   "cell_type": "code",
   "execution_count": 6,
   "id": "e3dfbaf4-e81e-4d3e-a2e2-829d12da01cf",
   "metadata": {},
   "outputs": [],
   "source": [
    "import math\n",
    "from math import sin\n",
    "import dis\n",
    "\n",
    "def test1(x):\n",
    "    \"\"\"\n",
    "    resolve `math` from globals()\n",
    "    resolve `sin` from math module\n",
    "    local lookup for x\n",
    "    \n",
    "    \"\"\"\n",
    "    return math.sin(x)\n",
    "\n",
    "\n",
    "def test2(x):\n",
    "    \"\"\"\n",
    "    resolve sin from globals()\n",
    "    resolve x from locals()\n",
    "    \"\"\"\n",
    "    return sin(x)\n",
    "\n",
    "\n",
    "def test3(x, sin=math.sin):\n",
    "    \"\"\"\n",
    "    resolve sin from locals()\n",
    "    resolve x from locals()\n",
    "    \"\"\"\n",
    "    return sin(x)"
   ]
  },
  {
   "cell_type": "code",
   "execution_count": 2,
   "id": "5217eac5-5eb1-4136-98ba-44b90e57fe4c",
   "metadata": {},
   "outputs": [
    {
     "name": "stdout",
     "output_type": "stream",
     "text": [
      "110 ns ± 0.653 ns per loop (mean ± std. dev. of 7 runs, 10,000,000 loops each)\n"
     ]
    }
   ],
   "source": [
    "%timeit test1(123456) \n",
    "#2 dictionary lookup, 1 local lookup\n"
   ]
  },
  {
   "cell_type": "code",
   "execution_count": 3,
   "id": "64c696c0-f1da-4636-942d-27ea6d7d385f",
   "metadata": {},
   "outputs": [
    {
     "name": "stdout",
     "output_type": "stream",
     "text": [
      "95.7 ns ± 7.78 ns per loop (mean ± std. dev. of 7 runs, 10,000,000 loops each)\n"
     ]
    }
   ],
   "source": [
    "%timeit test2(123456)\n",
    "#1 dictionary lookup, 1 local lookup"
   ]
  },
  {
   "cell_type": "code",
   "execution_count": 4,
   "id": "7eef916e-6862-4014-b712-a9de8e99c4de",
   "metadata": {},
   "outputs": [
    {
     "name": "stdout",
     "output_type": "stream",
     "text": [
      "88.9 ns ± 0.54 ns per loop (mean ± std. dev. of 7 runs, 10,000,000 loops each)\n"
     ]
    }
   ],
   "source": [
    "%timeit test3(123456)"
   ]
  },
  {
   "cell_type": "code",
   "execution_count": 7,
   "id": "ca72bf7a-168e-4159-be4a-4fd788be07bd",
   "metadata": {},
   "outputs": [
    {
     "name": "stdout",
     "output_type": "stream",
     "text": [
      " 12           0 LOAD_GLOBAL              0 (math)\n",
      "              2 LOAD_METHOD              1 (sin)\n",
      "              4 LOAD_FAST                0 (x)\n",
      "              6 CALL_METHOD              1\n",
      "              8 RETURN_VALUE\n"
     ]
    }
   ],
   "source": [
    "dis.dis(test1)"
   ]
  },
  {
   "cell_type": "code",
   "execution_count": 8,
   "id": "0ae57af1-d0a5-42c1-8d40-0c150003c0ae",
   "metadata": {},
   "outputs": [
    {
     "name": "stdout",
     "output_type": "stream",
     "text": [
      " 20           0 LOAD_GLOBAL              0 (sin)\n",
      "              2 LOAD_FAST                0 (x)\n",
      "              4 CALL_FUNCTION            1\n",
      "              6 RETURN_VALUE\n"
     ]
    }
   ],
   "source": [
    "dis.dis(test2)"
   ]
  },
  {
   "cell_type": "code",
   "execution_count": 9,
   "id": "4aef281e-3456-4d90-af42-11c4f2e6d458",
   "metadata": {},
   "outputs": [
    {
     "name": "stdout",
     "output_type": "stream",
     "text": [
      " 28           0 LOAD_FAST                1 (sin)\n",
      "              2 LOAD_FAST                0 (x)\n",
      "              4 CALL_FUNCTION            1\n",
      "              6 RETURN_VALUE\n"
     ]
    }
   ],
   "source": [
    "dis.dis(test3)"
   ]
  },
  {
   "cell_type": "markdown",
   "id": "aa937e68-df52-458f-957e-de840d13ac07",
   "metadata": {},
   "source": [
    "## Further exploration\n",
    "1. How can we write modules for python using C/fortran\n",
    "2. Multiprocessing\n",
    "3. How can we write code that runs across a cluster and use more machines.\n",
    "4. How can we make programs use less RAM"
   ]
  },
  {
   "cell_type": "markdown",
   "id": "4563de5d-e2b4-48d8-8f34-c18b75993a39",
   "metadata": {},
   "source": [
    "## References\n",
    "1. [High Performance Python(book)](https://www.goodreads.com/book/show/49828191-high-performance-python)\n",
    "2. [What Is Clock Speed?](https://www.intel.com/content/www/us/en/gaming/resources/cpu-clock-speed.html)\n",
    "3. [BogoMIPS](https://en.wikipedia.org/wiki/BogoMips)\n",
    "4. [Global Interpretor Lock](https://realpython.com/python-gil/)\n",
    "5. [dis — Disassembler for Python bytecode](https://docs.python.org/3/library/dis.html)"
   ]
  }
 ],
 "metadata": {
  "kernelspec": {
   "display_name": "Python 3 (ipykernel)",
   "language": "python",
   "name": "python3"
  },
  "language_info": {
   "codemirror_mode": {
    "name": "ipython",
    "version": 3
   },
   "file_extension": ".py",
   "mimetype": "text/x-python",
   "name": "python",
   "nbconvert_exporter": "python",
   "pygments_lexer": "ipython3",
   "version": "3.9.15"
  }
 },
 "nbformat": 4,
 "nbformat_minor": 5
}
